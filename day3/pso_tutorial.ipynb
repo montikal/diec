{
 "cells": [
  {
   "cell_type": "markdown",
   "metadata": {},
   "source": [
    "Reference from Particle Swarm Optimization (PSO)\n",
    "\n",
    "https://medium.com/grid-solutions/particle-swarm-optimization-pso-7194f33aa166"
   ]
  },
  {
   "cell_type": "markdown",
   "metadata": {},
   "source": [
    "![alt text](image.png)"
   ]
  },
  {
   "cell_type": "code",
   "execution_count": 1,
   "metadata": {},
   "outputs": [],
   "source": [
    "import numpy as np\n",
    "import pyswarms as ps\n",
    "from pyswarms.utils.functions import single_obj as fx\n",
    "import matplotlib.pyplot as plt\n",
    "from pyswarms.utils.plotters.formatters import Designer\n",
    "from pyswarms.utils.plotters.formatters import Mesher\n",
    "from pyswarms.utils.plotters.formatters import Animator\n",
    "\n",
    "from pyswarms.utils.plotters import plot_contour, plot_surface\n",
    "%matplotlib tk"
   ]
  },
  {
   "cell_type": "code",
   "execution_count": 2,
   "metadata": {},
   "outputs": [
    {
     "name": "stderr",
     "output_type": "stream",
     "text": [
      "2024-08-17 10:49:00,195 - pyswarms.single.global_best - INFO - Optimize for 1000 iters with {'c1': 0.5, 'c2': 0.3, 'w': 0.9}\n",
      "pyswarms.single.global_best: 100%|██████████|1000/1000, best_cost=6.8e-44\n",
      "2024-08-17 10:49:01,133 - pyswarms.single.global_best - INFO - Optimization finished | best cost: 6.800850602660432e-44, best pos: [2.59863353e-22 2.18984830e-23]\n"
     ]
    }
   ],
   "source": [
    "# Set-up all the hyperparameters\n",
    "options = {'c1': 0.5, 'c2': 0.3, 'w':0.9}\n",
    "\n",
    "# Call an instance of PSO\n",
    "optimizer = ps.single.GlobalBestPSO(n_particles=10, dimensions=2, options=options)\n",
    "\n",
    "# Perform the optimization\n",
    "cost, pos = optimizer.optimize(fx.sphere, iters=1000)"
   ]
  },
  {
   "cell_type": "code",
   "execution_count": 3,
   "metadata": {},
   "outputs": [],
   "source": [
    "# Code for 2D\n",
    "m = Mesher(func=fx.sphere)\n",
    "animation = plot_contour(pos_history=optimizer.pos_history,\n",
    "                         mesher=m,\n",
    "                         mark=(0,0))\n",
    "plt.show()"
   ]
  },
  {
   "cell_type": "markdown",
   "metadata": {},
   "source": [
    "###Particle Swarm Optimization (PSO) code###"
   ]
  },
  {
   "cell_type": "code",
   "execution_count": 4,
   "metadata": {},
   "outputs": [],
   "source": [
    "def objective_function(x):\n",
    "    return x[0]**2 + x[1]**2"
   ]
  },
  {
   "cell_type": "code",
   "execution_count": 5,
   "metadata": {},
   "outputs": [],
   "source": [
    "# Particle Swarm Optimization function\n",
    "def particle_swarm_optimization(objective_function, bounds, num_particles, num_iterations):\n",
    "    # Initialize particles\n",
    "    particles = np.random.uniform(bounds[:, 0], bounds[:, 1], (num_particles, bounds.shape[0]))\n",
    "    velocities = np.zeros_like(particles)\n",
    "    personal_best_positions = particles.copy()\n",
    "    personal_best_scores = np.array([objective_function(p) for p in particles])\n",
    "\n",
    "    # Find global best\n",
    "    global_best_position = personal_best_positions[np.argmin(xxxx)] #finding the best personal score index from all the particles\n",
    "    global_best_score = np.min(xxxx) #finding the best personal score from all the personal scores\n",
    "\n",
    "    # PSO parameters\n",
    "\n",
    "    w = 0.9\n",
    "    c1 = 0.5\n",
    "    c2 = 0.3\n",
    "\n",
    "    # Main loop\n",
    "    for i in range(num_iterations):\n",
    "        # Update velocities\n",
    "        velocities = w * velocities + c1 * np.random.rand() * (xxxx - particles) + c2 * np.random.rand() * (xxxx - particles) \n",
    "        # Need to update personal best positions and global best position\n",
    "\n",
    "        # Update particle positions\n",
    "        particles += velocities\n",
    "\n",
    "        # Update personal bests\n",
    "        for j, p in enumerate(particles):\n",
    "            score = objective_function(p)\n",
    "            if score < personal_best_scores[j]:\n",
    "                personal_best_positions[j] = p.copy()\n",
    "                personal_best_scores[j] = score\n",
    "\n",
    "                # Update global best\n",
    "                if score < global_best_score:\n",
    "                    global_best_position = p.copy()\n",
    "                    global_best_score = score\n",
    "\n",
    "    return global_best_position, global_best_score\n"
   ]
  },
  {
   "cell_type": "code",
   "execution_count": 6,
   "metadata": {},
   "outputs": [],
   "source": [
    "# Define problem bounds\n",
    "bounds = np.array([[-1, 1], [-1, 1]])\n"
   ]
  },
  {
   "cell_type": "code",
   "execution_count": 7,
   "metadata": {},
   "outputs": [
    {
     "ename": "NameError",
     "evalue": "name 'xxxx' is not defined",
     "output_type": "error",
     "traceback": [
      "\u001b[1;31m---------------------------------------------------------------------------\u001b[0m",
      "\u001b[1;31mNameError\u001b[0m                                 Traceback (most recent call last)",
      "\u001b[1;32m~\\AppData\\Local\\Temp\\ipykernel_1092\\2298052519.py\u001b[0m in \u001b[0;36m<module>\u001b[1;34m\u001b[0m\n\u001b[0;32m      1\u001b[0m \u001b[1;31m# Run Particle Swarm Optimization\u001b[0m\u001b[1;33m\u001b[0m\u001b[1;33m\u001b[0m\u001b[1;33m\u001b[0m\u001b[0m\n\u001b[1;32m----> 2\u001b[1;33m \u001b[0mbest_position\u001b[0m\u001b[1;33m,\u001b[0m \u001b[0mbest_score\u001b[0m \u001b[1;33m=\u001b[0m \u001b[0mparticle_swarm_optimization\u001b[0m\u001b[1;33m(\u001b[0m\u001b[0mobjective_function\u001b[0m\u001b[1;33m,\u001b[0m \u001b[0mbounds\u001b[0m\u001b[1;33m,\u001b[0m \u001b[0mnum_particles\u001b[0m\u001b[1;33m=\u001b[0m\u001b[1;36m10\u001b[0m\u001b[1;33m,\u001b[0m \u001b[0mnum_iterations\u001b[0m\u001b[1;33m=\u001b[0m\u001b[1;36m1000\u001b[0m\u001b[1;33m)\u001b[0m\u001b[1;33m\u001b[0m\u001b[1;33m\u001b[0m\u001b[0m\n\u001b[0m",
      "\u001b[1;32m~\\AppData\\Local\\Temp\\ipykernel_1092\\3343561950.py\u001b[0m in \u001b[0;36mparticle_swarm_optimization\u001b[1;34m(objective_function, bounds, num_particles, num_iterations)\u001b[0m\n\u001b[0;32m      8\u001b[0m \u001b[1;33m\u001b[0m\u001b[0m\n\u001b[0;32m      9\u001b[0m     \u001b[1;31m# Find global best\u001b[0m\u001b[1;33m\u001b[0m\u001b[1;33m\u001b[0m\u001b[1;33m\u001b[0m\u001b[0m\n\u001b[1;32m---> 10\u001b[1;33m     \u001b[0mglobal_best_position\u001b[0m \u001b[1;33m=\u001b[0m \u001b[0mpersonal_best_positions\u001b[0m\u001b[1;33m[\u001b[0m\u001b[0mnp\u001b[0m\u001b[1;33m.\u001b[0m\u001b[0margmin\u001b[0m\u001b[1;33m(\u001b[0m\u001b[0mxxxx\u001b[0m\u001b[1;33m)\u001b[0m\u001b[1;33m]\u001b[0m \u001b[1;31m#finding the best personal score index from all the particles\u001b[0m\u001b[1;33m\u001b[0m\u001b[1;33m\u001b[0m\u001b[0m\n\u001b[0m\u001b[0;32m     11\u001b[0m     \u001b[0mglobal_best_score\u001b[0m \u001b[1;33m=\u001b[0m \u001b[0mnp\u001b[0m\u001b[1;33m.\u001b[0m\u001b[0mmin\u001b[0m\u001b[1;33m(\u001b[0m\u001b[0mxxxx\u001b[0m\u001b[1;33m)\u001b[0m \u001b[1;31m#finding the best personal score from all the personal scores\u001b[0m\u001b[1;33m\u001b[0m\u001b[1;33m\u001b[0m\u001b[0m\n\u001b[0;32m     12\u001b[0m \u001b[1;33m\u001b[0m\u001b[0m\n",
      "\u001b[1;31mNameError\u001b[0m: name 'xxxx' is not defined"
     ]
    }
   ],
   "source": [
    "# Run Particle Swarm Optimization\n",
    "best_position, best_score = particle_swarm_optimization(objective_function, bounds, num_particles=10, num_iterations=1000)"
   ]
  },
  {
   "cell_type": "code",
   "execution_count": null,
   "metadata": {},
   "outputs": [
    {
     "name": "stdout",
     "output_type": "stream",
     "text": [
      "Best position: [2.07250973e-19 1.31975195e-19]\n",
      "Best score: 6.037041779491261e-38\n"
     ]
    }
   ],
   "source": [
    "print(\"Best position:\", best_position)\n",
    "print(\"Best score:\", best_score)"
   ]
  },
  {
   "cell_type": "code",
   "execution_count": null,
   "metadata": {},
   "outputs": [],
   "source": []
  }
 ],
 "metadata": {
  "kernelspec": {
   "display_name": "diec",
   "language": "python",
   "name": "python3"
  },
  "language_info": {
   "codemirror_mode": {
    "name": "ipython",
    "version": 3
   },
   "file_extension": ".py",
   "mimetype": "text/x-python",
   "name": "python",
   "nbconvert_exporter": "python",
   "pygments_lexer": "ipython3",
   "version": "3.7.16"
  }
 },
 "nbformat": 4,
 "nbformat_minor": 2
}
