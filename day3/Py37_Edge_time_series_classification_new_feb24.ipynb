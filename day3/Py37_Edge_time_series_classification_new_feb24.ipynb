{
 "cells": [
  {
   "cell_type": "markdown",
   "metadata": {
    "id": "3_4tTEupk1eV"
   },
   "source": [
    "\n",
    "# Edge Device Model Deployment\n",
    "\n",
    "In this notebook, we will train a deep learning model and deploy it to the edge.\n",
    "\n",
    "1. Train model using Keras\n",
    "2. Convert to compressed floating point version using Tensorflow Lite\n",
    "3. Deploy on Raspberry Pi\n",
    "\n",
    "We will use this dataset, which is gathered from a smart factory in Germany: https://www.kaggle.com/inIT-OWL/versatileproductionsystem\n",
    "\n"
   ]
  },
  {
   "cell_type": "code",
   "execution_count": 1,
   "metadata": {
    "colab": {
     "base_uri": "https://localhost:8080/"
    },
    "id": "zx5oEpaevjdu",
    "outputId": "33f01ae6-9f46-48ae-afc4-f478a50a6caa"
   },
   "outputs": [
    {
     "name": "stdout",
     "output_type": "stream",
     "text": [
      "pip 23.3.2 from /Users/montikallee/anaconda3/lib/python3.11/site-packages/pip (python 3.11)\n"
     ]
    }
   ],
   "source": [
    "!pip --version"
   ]
  },
  {
   "cell_type": "code",
   "execution_count": 1,
   "metadata": {
    "colab": {
     "base_uri": "https://localhost:8080/"
    },
    "id": "ZxpBO3SXeJGt",
    "outputId": "e8d80b38-240c-420e-8dc7-e8c55d0bd192"
   },
   "outputs": [
    {
     "name": "stdout",
     "output_type": "stream",
     "text": [
      "2.0.0\n",
      "0.22.1\n"
     ]
    }
   ],
   "source": [
    "import tensorflow as tf\n",
    "print(tf.__version__)\n",
    "\n",
    "import sklearn\n",
    "print(sklearn.__version__)"
   ]
  },
  {
   "cell_type": "code",
   "execution_count": 3,
   "metadata": {
    "colab": {
     "base_uri": "https://localhost:8080/"
    },
    "id": "iQsJxbFhGkwC",
    "outputId": "3900ad68-8c49-45d2-9305-643c9fd880d6"
   },
   "outputs": [
    {
     "name": "stderr",
     "output_type": "stream",
     "text": [
      "UsageError: Line magic function `%tensorflow_version` not found.\n"
     ]
    }
   ],
   "source": [
    "%tensorflow_version 2.x"
   ]
  },
  {
   "cell_type": "code",
   "execution_count": 4,
   "metadata": {
    "id": "smHIl430lswe"
   },
   "outputs": [],
   "source": [
    "import pandas as pd\n",
    "import numpy as np\n",
    "import pickle\n",
    "import matplotlib.pyplot as plt\n",
    "import seaborn as sns\n",
    "import os\n",
    "\n",
    "from sklearn.feature_selection import VarianceThreshold\n",
    "from sklearn.preprocessing import MinMaxScaler\n",
    "from sklearn.model_selection import train_test_split\n",
    "from sklearn.metrics import classification_report, confusion_matrix\n",
    "\n",
    "import tensorflow as tf\n",
    "from tensorflow.keras.models import Sequential, load_model\n",
    "from tensorflow.keras.layers import Dense, Conv1D, Flatten\n",
    "from tensorflow.keras.callbacks import ModelCheckpoint\n",
    "\n",
    "sns.set(style='whitegrid')\n",
    "%matplotlib inline"
   ]
  },
  {
   "cell_type": "code",
   "execution_count": 5,
   "metadata": {
    "colab": {
     "base_uri": "https://localhost:8080/"
    },
    "id": "3b-JkJ_3UaoR",
    "outputId": "cef979bb-9056-470a-f77f-8de4d06915d7",
    "scrolled": true
   },
   "outputs": [
    {
     "name": "stdout",
     "output_type": "stream",
     "text": [
      "2.10.0\n"
     ]
    }
   ],
   "source": [
    "print(tf.__version__)"
   ]
  },
  {
   "cell_type": "code",
   "execution_count": 6,
   "metadata": {
    "scrolled": false
   },
   "outputs": [
    {
     "name": "stdout",
     "output_type": "stream",
     "text": [
      "  % Total    % Received % Xferd  Average Speed   Time    Time     Time  Current\n",
      "                                 Dload  Upload   Total   Spent    Left  Speed\n",
      "100  397k  100  397k    0     0   977k      0 --:--:-- --:--:-- --:--:--  979k\n"
     ]
    }
   ],
   "source": [
    "!curl -o data.zip \"https://raw.githubusercontent.com/lisaong/diec/master/data/versatileproductionsystem.zip\""
   ]
  },
  {
   "cell_type": "code",
   "execution_count": 7,
   "metadata": {},
   "outputs": [],
   "source": [
    "from zipfile import ZipFile\n",
    "with ZipFile(\"data.zip\", 'r') as zObject:\n",
    "     zObject.extractall(\n",
    "        path=\"./data\")"
   ]
  },
  {
   "cell_type": "markdown",
   "metadata": {
    "id": "l9g7zOtylkXH"
   },
   "source": [
    "## Dataset\n",
    "\n",
    "Load the dataset from our github repository."
   ]
  },
  {
   "cell_type": "code",
   "execution_count": 8,
   "metadata": {
    "colab": {
     "base_uri": "https://localhost:8080/",
     "height": 287
    },
    "id": "5W1mQD8mmGZ_",
    "outputId": "5329bd30-2600-465f-ee12-9b331d82fcb8"
   },
   "outputs": [
    {
     "data": {
      "text/html": [
       "<div>\n",
       "<style scoped>\n",
       "    .dataframe tbody tr th:only-of-type {\n",
       "        vertical-align: middle;\n",
       "    }\n",
       "\n",
       "    .dataframe tbody tr th {\n",
       "        vertical-align: top;\n",
       "    }\n",
       "\n",
       "    .dataframe thead th {\n",
       "        text-align: right;\n",
       "    }\n",
       "</style>\n",
       "<table border=\"1\" class=\"dataframe\">\n",
       "  <thead>\n",
       "    <tr style=\"text-align: right;\">\n",
       "      <th></th>\n",
       "      <th>I_BottleAtAirpipe</th>\n",
       "      <th>I_BottleClampClose</th>\n",
       "      <th>I_BottleClampOpen</th>\n",
       "      <th>I_BottleGateClosed</th>\n",
       "      <th>I_BottleReserveGateClosed</th>\n",
       "      <th>I_BottlesAvailable</th>\n",
       "      <th>I_BottleSlot1</th>\n",
       "      <th>I_BottleSlot2_H2O</th>\n",
       "      <th>I_BottleSlot3_Corn</th>\n",
       "      <th>I_BottleSlot5_CapOn</th>\n",
       "      <th>...</th>\n",
       "      <th>BottlesAvailable.AnalogValue.EURangeViolation</th>\n",
       "      <th>BottleSlot1.AnalogValue.EURangeViolation</th>\n",
       "      <th>BottleSlot2_H2O.AnalogValue.EURangeViolation</th>\n",
       "      <th>BottleSlot3_Corn.AnalogValue.EURangeViolation</th>\n",
       "      <th>BottleSlot5_CapOn.AnalogValue.EURangeViolation</th>\n",
       "      <th>BottleSlot6_CapCloser.AnalogValue.EURangeViolation</th>\n",
       "      <th>BottleSlot8_ModuleOut.AnalogValue.EURangeViolation</th>\n",
       "      <th>BottlesNotUsed.AnalogValue.EURangeViolation</th>\n",
       "      <th>UltraSonic_Corn.DistanceM.EURangeViolation</th>\n",
       "      <th>UltraSonic_H2O.DistanceM.EURangeViolation</th>\n",
       "    </tr>\n",
       "    <tr>\n",
       "      <th>Timestamp</th>\n",
       "      <th></th>\n",
       "      <th></th>\n",
       "      <th></th>\n",
       "      <th></th>\n",
       "      <th></th>\n",
       "      <th></th>\n",
       "      <th></th>\n",
       "      <th></th>\n",
       "      <th></th>\n",
       "      <th></th>\n",
       "      <th></th>\n",
       "      <th></th>\n",
       "      <th></th>\n",
       "      <th></th>\n",
       "      <th></th>\n",
       "      <th></th>\n",
       "      <th></th>\n",
       "      <th></th>\n",
       "      <th></th>\n",
       "      <th></th>\n",
       "      <th></th>\n",
       "    </tr>\n",
       "  </thead>\n",
       "  <tbody>\n",
       "    <tr>\n",
       "      <th>1529500027127</th>\n",
       "      <td>0</td>\n",
       "      <td>0</td>\n",
       "      <td>1</td>\n",
       "      <td>1</td>\n",
       "      <td>1</td>\n",
       "      <td>1</td>\n",
       "      <td>0</td>\n",
       "      <td>0</td>\n",
       "      <td>0</td>\n",
       "      <td>0</td>\n",
       "      <td>...</td>\n",
       "      <td>0</td>\n",
       "      <td>0</td>\n",
       "      <td>0</td>\n",
       "      <td>0</td>\n",
       "      <td>0</td>\n",
       "      <td>0</td>\n",
       "      <td>0</td>\n",
       "      <td>0</td>\n",
       "      <td>0</td>\n",
       "      <td>0</td>\n",
       "    </tr>\n",
       "    <tr>\n",
       "      <th>1529500027227</th>\n",
       "      <td>0</td>\n",
       "      <td>0</td>\n",
       "      <td>1</td>\n",
       "      <td>1</td>\n",
       "      <td>1</td>\n",
       "      <td>1</td>\n",
       "      <td>0</td>\n",
       "      <td>0</td>\n",
       "      <td>0</td>\n",
       "      <td>0</td>\n",
       "      <td>...</td>\n",
       "      <td>0</td>\n",
       "      <td>0</td>\n",
       "      <td>0</td>\n",
       "      <td>0</td>\n",
       "      <td>0</td>\n",
       "      <td>0</td>\n",
       "      <td>0</td>\n",
       "      <td>0</td>\n",
       "      <td>0</td>\n",
       "      <td>0</td>\n",
       "    </tr>\n",
       "    <tr>\n",
       "      <th>1529500027327</th>\n",
       "      <td>0</td>\n",
       "      <td>0</td>\n",
       "      <td>1</td>\n",
       "      <td>1</td>\n",
       "      <td>1</td>\n",
       "      <td>1</td>\n",
       "      <td>0</td>\n",
       "      <td>0</td>\n",
       "      <td>0</td>\n",
       "      <td>0</td>\n",
       "      <td>...</td>\n",
       "      <td>0</td>\n",
       "      <td>0</td>\n",
       "      <td>0</td>\n",
       "      <td>0</td>\n",
       "      <td>0</td>\n",
       "      <td>0</td>\n",
       "      <td>0</td>\n",
       "      <td>0</td>\n",
       "      <td>0</td>\n",
       "      <td>0</td>\n",
       "    </tr>\n",
       "    <tr>\n",
       "      <th>1529500027428</th>\n",
       "      <td>0</td>\n",
       "      <td>0</td>\n",
       "      <td>1</td>\n",
       "      <td>1</td>\n",
       "      <td>1</td>\n",
       "      <td>1</td>\n",
       "      <td>0</td>\n",
       "      <td>0</td>\n",
       "      <td>0</td>\n",
       "      <td>0</td>\n",
       "      <td>...</td>\n",
       "      <td>0</td>\n",
       "      <td>0</td>\n",
       "      <td>0</td>\n",
       "      <td>0</td>\n",
       "      <td>0</td>\n",
       "      <td>0</td>\n",
       "      <td>0</td>\n",
       "      <td>0</td>\n",
       "      <td>0</td>\n",
       "      <td>0</td>\n",
       "    </tr>\n",
       "    <tr>\n",
       "      <th>1529500027528</th>\n",
       "      <td>0</td>\n",
       "      <td>0</td>\n",
       "      <td>1</td>\n",
       "      <td>1</td>\n",
       "      <td>1</td>\n",
       "      <td>1</td>\n",
       "      <td>0</td>\n",
       "      <td>0</td>\n",
       "      <td>0</td>\n",
       "      <td>0</td>\n",
       "      <td>...</td>\n",
       "      <td>0</td>\n",
       "      <td>0</td>\n",
       "      <td>0</td>\n",
       "      <td>0</td>\n",
       "      <td>0</td>\n",
       "      <td>0</td>\n",
       "      <td>0</td>\n",
       "      <td>0</td>\n",
       "      <td>0</td>\n",
       "      <td>0</td>\n",
       "    </tr>\n",
       "  </tbody>\n",
       "</table>\n",
       "<p>5 rows × 84 columns</p>\n",
       "</div>"
      ],
      "text/plain": [
       "               I_BottleAtAirpipe  I_BottleClampClose  I_BottleClampOpen  \\\n",
       "Timestamp                                                                 \n",
       "1529500027127                  0                   0                  1   \n",
       "1529500027227                  0                   0                  1   \n",
       "1529500027327                  0                   0                  1   \n",
       "1529500027428                  0                   0                  1   \n",
       "1529500027528                  0                   0                  1   \n",
       "\n",
       "               I_BottleGateClosed  I_BottleReserveGateClosed  \\\n",
       "Timestamp                                                      \n",
       "1529500027127                   1                          1   \n",
       "1529500027227                   1                          1   \n",
       "1529500027327                   1                          1   \n",
       "1529500027428                   1                          1   \n",
       "1529500027528                   1                          1   \n",
       "\n",
       "               I_BottlesAvailable  I_BottleSlot1  I_BottleSlot2_H2O  \\\n",
       "Timestamp                                                             \n",
       "1529500027127                   1              0                  0   \n",
       "1529500027227                   1              0                  0   \n",
       "1529500027327                   1              0                  0   \n",
       "1529500027428                   1              0                  0   \n",
       "1529500027528                   1              0                  0   \n",
       "\n",
       "               I_BottleSlot3_Corn  I_BottleSlot5_CapOn  ...  \\\n",
       "Timestamp                                               ...   \n",
       "1529500027127                   0                    0  ...   \n",
       "1529500027227                   0                    0  ...   \n",
       "1529500027327                   0                    0  ...   \n",
       "1529500027428                   0                    0  ...   \n",
       "1529500027528                   0                    0  ...   \n",
       "\n",
       "               BottlesAvailable.AnalogValue.EURangeViolation  \\\n",
       "Timestamp                                                      \n",
       "1529500027127                                              0   \n",
       "1529500027227                                              0   \n",
       "1529500027327                                              0   \n",
       "1529500027428                                              0   \n",
       "1529500027528                                              0   \n",
       "\n",
       "               BottleSlot1.AnalogValue.EURangeViolation  \\\n",
       "Timestamp                                                 \n",
       "1529500027127                                         0   \n",
       "1529500027227                                         0   \n",
       "1529500027327                                         0   \n",
       "1529500027428                                         0   \n",
       "1529500027528                                         0   \n",
       "\n",
       "               BottleSlot2_H2O.AnalogValue.EURangeViolation  \\\n",
       "Timestamp                                                     \n",
       "1529500027127                                             0   \n",
       "1529500027227                                             0   \n",
       "1529500027327                                             0   \n",
       "1529500027428                                             0   \n",
       "1529500027528                                             0   \n",
       "\n",
       "               BottleSlot3_Corn.AnalogValue.EURangeViolation  \\\n",
       "Timestamp                                                      \n",
       "1529500027127                                              0   \n",
       "1529500027227                                              0   \n",
       "1529500027327                                              0   \n",
       "1529500027428                                              0   \n",
       "1529500027528                                              0   \n",
       "\n",
       "               BottleSlot5_CapOn.AnalogValue.EURangeViolation  \\\n",
       "Timestamp                                                       \n",
       "1529500027127                                               0   \n",
       "1529500027227                                               0   \n",
       "1529500027327                                               0   \n",
       "1529500027428                                               0   \n",
       "1529500027528                                               0   \n",
       "\n",
       "               BottleSlot6_CapCloser.AnalogValue.EURangeViolation  \\\n",
       "Timestamp                                                           \n",
       "1529500027127                                                  0    \n",
       "1529500027227                                                  0    \n",
       "1529500027327                                                  0    \n",
       "1529500027428                                                  0    \n",
       "1529500027528                                                  0    \n",
       "\n",
       "               BottleSlot8_ModuleOut.AnalogValue.EURangeViolation  \\\n",
       "Timestamp                                                           \n",
       "1529500027127                                                  0    \n",
       "1529500027227                                                  0    \n",
       "1529500027327                                                  0    \n",
       "1529500027428                                                  0    \n",
       "1529500027528                                                  0    \n",
       "\n",
       "               BottlesNotUsed.AnalogValue.EURangeViolation  \\\n",
       "Timestamp                                                    \n",
       "1529500027127                                            0   \n",
       "1529500027227                                            0   \n",
       "1529500027327                                            0   \n",
       "1529500027428                                            0   \n",
       "1529500027528                                            0   \n",
       "\n",
       "               UltraSonic_Corn.DistanceM.EURangeViolation  \\\n",
       "Timestamp                                                   \n",
       "1529500027127                                           0   \n",
       "1529500027227                                           0   \n",
       "1529500027327                                           0   \n",
       "1529500027428                                           0   \n",
       "1529500027528                                           0   \n",
       "\n",
       "               UltraSonic_H2O.DistanceM.EURangeViolation  \n",
       "Timestamp                                                 \n",
       "1529500027127                                          0  \n",
       "1529500027227                                          0  \n",
       "1529500027327                                          0  \n",
       "1529500027428                                          0  \n",
       "1529500027528                                          0  \n",
       "\n",
       "[5 rows x 84 columns]"
      ]
     },
     "execution_count": 8,
     "metadata": {},
     "output_type": "execute_result"
    }
   ],
   "source": [
    "# read one of the data files\n",
    "df = pd.read_csv('./data/Filling_ALL.module.csv', index_col=0)\n",
    "df.head()"
   ]
  },
  {
   "cell_type": "markdown",
   "metadata": {
    "id": "B4L4UWkHnK3q"
   },
   "source": [
    "## Task Definition\n",
    "\n",
    "A common factory monitoring scenario is to predict a target based on past history.\n",
    "\n",
    "For the purposes of this workshop, let's try to predict the value of 'I_BottlesReserveAvailable', using last 10 values of each feature."
   ]
  },
  {
   "cell_type": "code",
   "execution_count": 9,
   "metadata": {
    "colab": {
     "base_uri": "https://localhost:8080/",
     "height": 458
    },
    "id": "KVGhZWp0mSco",
    "outputId": "6316478d-ecd9-4119-f1a6-24e64c50fa1f"
   },
   "outputs": [
    {
     "data": {
      "image/png": "[encoded data removed]",
      "text/plain": [
       "<Figure size 640x480 with 1 Axes>"
      ]
     },
     "metadata": {},
     "output_type": "display_data"
    }
   ],
   "source": [
    "# Target\n",
    "target = 'I_BottlesReserveAvailable'\n",
    "\n",
    "df[target].plot();"
   ]
  },
  {
   "cell_type": "code",
   "execution_count": 10,
   "metadata": {
    "colab": {
     "base_uri": "https://localhost:8080/"
    },
    "id": "vJxiO4oBWv79",
    "outputId": "89cac773-6c1e-4256-95e6-3c4381aaf0b1"
   },
   "outputs": [
    {
     "data": {
      "text/plain": [
       "1    5603\n",
       "0    4926\n",
       "Name: I_BottlesReserveAvailable, dtype: int64"
      ]
     },
     "execution_count": 10,
     "metadata": {},
     "output_type": "execute_result"
    }
   ],
   "source": [
    "# check for balanced classes\n",
    "df[target].value_counts()"
   ]
  },
  {
   "cell_type": "code",
   "execution_count": 11,
   "metadata": {
    "colab": {
     "base_uri": "https://localhost:8080/"
    },
    "id": "dSPmAh6OZO24",
    "outputId": "e3348169-a182-4e5a-c2a9-6bd3cb081ff7"
   },
   "outputs": [
    {
     "data": {
      "text/plain": [
       "Index(['I_BottleAtAirpipe', 'I_BottleClampClose', 'I_BottleClampOpen',\n",
       "       'I_BottleGateClosed', 'I_BottleReserveGateClosed', 'I_BottlesAvailable',\n",
       "       'I_BottleSlot1', 'I_BottleSlot2_H2O', 'I_BottleSlot3_Corn',\n",
       "       'I_BottleSlot5_CapOn', 'I_BottleSlot6_CapScrewer',\n",
       "       'I_BottleSlot8_Output', 'I_BottlesReserveAvailable', 'I_CapGrabberDown',\n",
       "       'I_CapGrabberUp', 'I_CapOnConveyor', 'I_CapScrewer_Down',\n",
       "       'I_CapScrewer_Up', 'I_CapScrewerClosePos', 'I_CapScrewerGrabClosed',\n",
       "       'I_CapScrewerOpenPos', 'I_CornTankFull', 'I_LinAxisCapInGrabber',\n",
       "       'I_LinAxisDown', 'I_LinAxisEmptyGrabber', 'I_LinAxisUp',\n",
       "       'I_NoCapOnConveyor', 'I_Portioning', 'I_Pump_Down', 'I_Pump_Up',\n",
       "       'I_RotaryTablePosReached', 'I_UltrasonicCorn',\n",
       "       'I_UltrasonicCorn_Distance', 'I_UltrasonicH2O',\n",
       "       'I_UltrasonicH2O_Distance', 'I_WaterTankMinFull', 'I_WaterTankNotFull',\n",
       "       'O_ActivateAirpipe', 'O_BottleClampClose', 'O_CapGrabberOpenClose',\n",
       "       'O_CapGrabberUpDown', 'O_CapScrewDown', 'O_CapScrewerGrabberOpenClose',\n",
       "       'O_CloseCap', 'O_ConveyorCapsEnable', 'O_ConveyorCapsForward',\n",
       "       'O_ConveyorModuleIn', 'O_ConveyorModuleOut', 'O_GateBottleClose',\n",
       "       'O_GateReserveClose', 'O_LinAxisUpDown', 'O_PortionerForward',\n",
       "       'O_PortionerReverse', 'O_PortionerSlow', 'O_PumpUpDown',\n",
       "       'O_RotaryTable', 'O_ValvePumpCloseOpen', 'PendingOrder', 'Portions',\n",
       "       'PumpStrokes', 'Rotating', 'SlowPortioning', 'State', 'BottleSlot1',\n",
       "       'BottleSlot2_H2O', 'BottleSlot3_Corn', 'BottleSlot5_CapOn',\n",
       "       'BottleSlot6_CapCloser', 'BottleSlot8_ModuleOut',\n",
       "       'UltraSonic_Corn.DistanceM', 'UltraSonic_H2O.DistanceM',\n",
       "       'BottlesAvailable.AnalogValue.EURangeViolation',\n",
       "       'BottleSlot1.AnalogValue.EURangeViolation',\n",
       "       'BottleSlot2_H2O.AnalogValue.EURangeViolation',\n",
       "       'BottleSlot3_Corn.AnalogValue.EURangeViolation',\n",
       "       'BottleSlot5_CapOn.AnalogValue.EURangeViolation',\n",
       "       'BottleSlot6_CapCloser.AnalogValue.EURangeViolation',\n",
       "       'BottleSlot8_ModuleOut.AnalogValue.EURangeViolation',\n",
       "       'BottlesNotUsed.AnalogValue.EURangeViolation',\n",
       "       'UltraSonic_Corn.DistanceM.EURangeViolation',\n",
       "       'UltraSonic_H2O.DistanceM.EURangeViolation'],\n",
       "      dtype='object')"
      ]
     },
     "execution_count": 11,
     "metadata": {},
     "output_type": "execute_result"
    }
   ],
   "source": [
    "# drop some columns that the target is derived from (otherwise we are cheating)\n",
    "df.drop(['BottlesAvailable', 'BottlesNotUsed', 'I_BottleStorageFull'], axis=1, inplace=True)\n",
    "df.columns"
   ]
  },
  {
   "cell_type": "markdown",
   "metadata": {
    "id": "s-PJjLMPLNKV"
   },
   "source": []
  },
  {
   "cell_type": "markdown",
   "metadata": {
    "id": "Vdl1Wtt7w526"
   },
   "source": [
    "## Reserve for testing\n",
    "\n",
    "Reserve the some values for testing on the Raspberry Pi.\n"
   ]
  },
  {
   "cell_type": "code",
   "execution_count": 12,
   "metadata": {
    "colab": {
     "base_uri": "https://localhost:8080/"
    },
    "id": "CFR6DTl5xDwK",
    "outputId": "57a3bebd-cc55-4a76-ca9a-59eea1e5b88e"
   },
   "outputs": [
    {
     "data": {
      "text/plain": [
       "((10429, 81), (100, 81))"
      ]
     },
     "execution_count": 12,
     "metadata": {},
     "output_type": "execute_result"
    }
   ],
   "source": [
    "test_size = 100\n",
    "\n",
    "df_train = df.iloc[:-test_size]\n",
    "df_test = df.iloc[-test_size:]\n",
    "\n",
    "df_train.shape, df_test.shape"
   ]
  },
  {
   "cell_type": "code",
   "execution_count": 13,
   "metadata": {
    "id": "jTFHCNClxGda"
   },
   "outputs": [],
   "source": [
    "# save input numpy arrays for later use\n",
    "pickle.dump(df_train.loc[:, df_train.columns != target].values,\n",
    "            open('./X_train.pkl', 'wb'))\n",
    "\n",
    "pickle.dump(df_test.loc[:, df_test.columns != target].values,\n",
    "            open('./X_test.pkl', 'wb'))"
   ]
  },
  {
   "cell_type": "markdown",
   "metadata": {
    "id": "Wi1EqEi0p_Ig"
   },
   "source": [
    "## Feature Selection\n",
    "\n",
    "First, some basic feature selection: Filter out columns that don't change very much (low variance)."
   ]
  },
  {
   "cell_type": "code",
   "execution_count": 14,
   "metadata": {
    "colab": {
     "base_uri": "https://localhost:8080/"
    },
    "id": "RJl8kbsfnc0C",
    "outputId": "5032838f-b98b-4c2e-effa-4a8e8a6788b8"
   },
   "outputs": [
    {
     "data": {
      "text/plain": [
       "Index(['I_BottleAtAirpipe', 'I_BottleClampClose', 'I_BottleClampOpen',\n",
       "       'I_BottleGateClosed', 'I_BottleReserveGateClosed', 'I_BottlesAvailable',\n",
       "       'I_BottleSlot1', 'I_BottleSlot2_H2O', 'I_BottleSlot3_Corn',\n",
       "       'I_BottleSlot5_CapOn', 'I_BottleSlot6_CapScrewer',\n",
       "       'I_BottleSlot8_Output', 'I_CapGrabberDown', 'I_CapGrabberUp',\n",
       "       'I_CapOnConveyor', 'I_CapScrewer_Down', 'I_CapScrewer_Up',\n",
       "       'I_CapScrewerClosePos', 'I_CapScrewerGrabClosed', 'I_CapScrewerOpenPos',\n",
       "       'I_CornTankFull', 'I_LinAxisCapInGrabber', 'I_LinAxisDown',\n",
       "       'I_LinAxisEmptyGrabber', 'I_LinAxisUp', 'I_NoCapOnConveyor',\n",
       "       'I_Portioning', 'I_Pump_Down', 'I_Pump_Up', 'I_RotaryTablePosReached',\n",
       "       'I_UltrasonicCorn', 'I_UltrasonicCorn_Distance', 'I_UltrasonicH2O',\n",
       "       'I_UltrasonicH2O_Distance', 'I_WaterTankMinFull', 'I_WaterTankNotFull',\n",
       "       'O_ActivateAirpipe', 'O_BottleClampClose', 'O_CapGrabberOpenClose',\n",
       "       'O_CapGrabberUpDown', 'O_CapScrewDown', 'O_CapScrewerGrabberOpenClose',\n",
       "       'O_CloseCap', 'O_ConveyorCapsEnable', 'O_ConveyorCapsForward',\n",
       "       'O_ConveyorModuleIn', 'O_ConveyorModuleOut', 'O_GateBottleClose',\n",
       "       'O_GateReserveClose', 'O_LinAxisUpDown', 'O_PortionerForward',\n",
       "       'O_PortionerReverse', 'O_PortionerSlow', 'O_PumpUpDown',\n",
       "       'O_RotaryTable', 'O_ValvePumpCloseOpen', 'PendingOrder', 'Portions',\n",
       "       'PumpStrokes', 'Rotating', 'SlowPortioning', 'State', 'BottleSlot1',\n",
       "       'BottleSlot2_H2O', 'BottleSlot3_Corn', 'BottleSlot5_CapOn',\n",
       "       'BottleSlot6_CapCloser', 'BottleSlot8_ModuleOut',\n",
       "       'UltraSonic_Corn.DistanceM', 'UltraSonic_H2O.DistanceM',\n",
       "       'BottlesAvailable.AnalogValue.EURangeViolation',\n",
       "       'BottleSlot1.AnalogValue.EURangeViolation',\n",
       "       'BottleSlot2_H2O.AnalogValue.EURangeViolation',\n",
       "       'BottleSlot3_Corn.AnalogValue.EURangeViolation',\n",
       "       'BottleSlot5_CapOn.AnalogValue.EURangeViolation',\n",
       "       'BottleSlot6_CapCloser.AnalogValue.EURangeViolation',\n",
       "       'BottleSlot8_ModuleOut.AnalogValue.EURangeViolation',\n",
       "       'BottlesNotUsed.AnalogValue.EURangeViolation',\n",
       "       'UltraSonic_Corn.DistanceM.EURangeViolation',\n",
       "       'UltraSonic_H2O.DistanceM.EURangeViolation'],\n",
       "      dtype='object')"
      ]
     },
     "execution_count": 14,
     "metadata": {},
     "output_type": "execute_result"
    }
   ],
   "source": [
    "# Candidate features\n",
    "\n",
    "candidates = df_train.columns[df_train.columns != target]\n",
    "candidates"
   ]
  },
  {
   "cell_type": "code",
   "execution_count": 15,
   "metadata": {
    "colab": {
     "base_uri": "https://localhost:8080/"
    },
    "id": "Y6RmjiHnosf0",
    "outputId": "991dcf18-d92a-4e98-fa5a-5c83504ea394"
   },
   "outputs": [
    {
     "data": {
      "text/plain": [
       "Index(['I_BottleClampClose', 'I_BottleClampOpen', 'I_BottleSlot2_H2O',\n",
       "       'I_BottleSlot3_Corn', 'I_BottleSlot5_CapOn', 'I_BottleSlot6_CapScrewer',\n",
       "       'I_CapGrabberUp', 'I_CapScrewer_Up', 'I_CapScrewerOpenPos',\n",
       "       'I_LinAxisCapInGrabber', 'I_LinAxisDown', 'I_LinAxisEmptyGrabber',\n",
       "       'I_Pump_Down', 'I_RotaryTablePosReached', 'I_UltrasonicCorn',\n",
       "       'I_UltrasonicCorn_Distance', 'I_UltrasonicH2O_Distance',\n",
       "       'O_BottleClampClose', 'O_CapGrabberOpenClose', 'O_CapGrabberUpDown',\n",
       "       'O_CapScrewDown', 'O_CloseCap', 'O_ConveyorCapsForward',\n",
       "       'O_LinAxisUpDown', 'O_RotaryTable', 'O_ValvePumpCloseOpen',\n",
       "       'PendingOrder', 'Rotating', 'State', 'BottleSlot1', 'BottleSlot2_H2O',\n",
       "       'BottleSlot3_Corn', 'BottleSlot5_CapOn', 'BottleSlot6_CapCloser',\n",
       "       'BottleSlot8_ModuleOut', 'UltraSonic_Corn.DistanceM',\n",
       "       'UltraSonic_H2O.DistanceM'],\n",
       "      dtype='object')"
      ]
     },
     "execution_count": 15,
     "metadata": {},
     "output_type": "execute_result"
    }
   ],
   "source": [
    "# Apply variance threshold of 0.1\n",
    "vt = VarianceThreshold(threshold=0.1)\n",
    "vt.fit(df_train[candidates])\n",
    "\n",
    "# filtered out features\n",
    "features = candidates[vt.get_support()]\n",
    "features"
   ]
  },
  {
   "cell_type": "markdown",
   "metadata": {
    "id": "I450WKGxp8iK"
   },
   "source": [
    "## Scaling\n",
    "\n",
    "Next, scale the features so that we can speed up training."
   ]
  },
  {
   "cell_type": "code",
   "execution_count": 16,
   "metadata": {
    "colab": {
     "base_uri": "https://localhost:8080/"
    },
    "id": "sxqF8I-Ns2xj",
    "outputId": "4616dcbd-8972-4a5a-9517-c7ff29922f8a"
   },
   "outputs": [
    {
     "data": {
      "text/plain": [
       "array([[-1.        ,  1.        , -1.        , ..., -0.99369085,\n",
       "        -0.94641148,  1.        ],\n",
       "       [-1.        ,  1.        , -1.        , ..., -0.99369085,\n",
       "        -0.94449761,  1.        ],\n",
       "       [-1.        ,  1.        , -1.        , ..., -0.99369085,\n",
       "        -0.95215311,  1.        ],\n",
       "       ...,\n",
       "       [-1.        ,  1.        , -1.        , ..., -0.99369085,\n",
       "        -0.99808612, -0.53684211],\n",
       "       [-1.        ,  1.        , -1.        , ..., -0.99369085,\n",
       "        -0.99808612, -0.53684211],\n",
       "       [-1.        ,  1.        , -1.        , ..., -0.99369085,\n",
       "        -0.99808612, -0.53684211]])"
      ]
     },
     "execution_count": 16,
     "metadata": {},
     "output_type": "execute_result"
    }
   ],
   "source": [
    "feature_scaler = MinMaxScaler(feature_range=(-1, 1))\n",
    "feature_values = feature_scaler.fit_transform(df_train[features])\n",
    "feature_values"
   ]
  },
  {
   "cell_type": "markdown",
   "metadata": {
    "id": "QwfGR-uttMFp"
   },
   "source": [
    "## Time Series Windowing\n",
    "\n",
    "Next, convert the time series so that each entry contains a series of timesteps.\n",
    "\n",
    "Before: rows, features\n",
    "\n",
    "After: rows, timesteps, features\n",
    "\n",
    "Note that some rows will be removed because we are taking a window of values."
   ]
  },
  {
   "cell_type": "code",
   "execution_count": 17,
   "metadata": {
    "colab": {
     "base_uri": "https://localhost:8080/"
    },
    "id": "dQcRa6rhuAT6",
    "outputId": "250a9d73-6048-4c57-8b25-84d75e75096a"
   },
   "outputs": [
    {
     "name": "stdout",
     "output_type": "stream",
     "text": [
      "(10429, 37)\n"
     ]
    },
    {
     "data": {
      "text/plain": [
       "(10419, 10, 37)"
      ]
     },
     "execution_count": 17,
     "metadata": {},
     "output_type": "execute_result"
    }
   ],
   "source": [
    "timesteps = 10\n",
    "\n",
    "print(feature_values.shape) # (rows, features)\n",
    "\n",
    "rolling_indexes = [(range(i, i+timesteps))\n",
    "                   for i in range(feature_values.shape[0]-timesteps)]\n",
    "\n",
    "X_sequence = np.take(feature_values, rolling_indexes, axis=0)\n",
    "X_sequence.shape # (rows, timesteps, features)"
   ]
  },
  {
   "cell_type": "code",
   "execution_count": 18,
   "metadata": {
    "colab": {
     "base_uri": "https://localhost:8080/"
    },
    "id": "9S6D2yR2u_Jk",
    "outputId": "5515bc7e-6294-4e88-e846-11f201e738a5"
   },
   "outputs": [
    {
     "data": {
      "text/plain": [
       "(10419,)"
      ]
     },
     "execution_count": 18,
     "metadata": {},
     "output_type": "execute_result"
    }
   ],
   "source": [
    "# shift y down by 1 value so that we are predicting the future\n",
    "# make sure y is the same length as X_sequence\n",
    "\n",
    "# print(df[target].shape)\n",
    "y = df[target][timesteps:X_sequence.shape[0]+timesteps].values\n",
    "y.shape"
   ]
  },
  {
   "cell_type": "markdown",
   "metadata": {
    "id": "4X6W5eIGvqvu"
   },
   "source": [
    "## Train model\n",
    "\n",
    "We will train a very simple 1D convolutional model to try to predict y from X_sequence.\n",
    "\n",
    "To recap:\n",
    "\n",
    "- X_sequence (rows, timesteps, features): each scaled feature at [t-9] ... [t]\n",
    "- y (rows): target[t+1]\n",
    "\n",
    "The convolutional 1D layer will look at windows of timesteps, one feature at a time. Here's a more detailed reference on it for time series data: https://missinglink.ai/guides/keras/keras-conv1d-working-1d-convolutional-neural-networks-keras/\n",
    "\n",
    "\n",
    "Note: we can also train an LSTM model, but currently Tensorflow Lite with Keras does not support it nicely (yet): https://github.com/tensorflow/tensorflow/issues/30864"
   ]
  },
  {
   "cell_type": "code",
   "execution_count": 19,
   "metadata": {
    "colab": {
     "base_uri": "https://localhost:8080/"
    },
    "id": "ZJNTF_O0wwWx",
    "outputId": "be9a5e6a-0547-4453-a517-39107ad31f8d"
   },
   "outputs": [
    {
     "data": {
      "text/plain": [
       "((9377, 10, 37), (1042, 10, 37), (9377,), (1042,))"
      ]
     },
     "execution_count": 19,
     "metadata": {},
     "output_type": "execute_result"
    }
   ],
   "source": [
    "# create training and validation set\n",
    "X_train, X_val, y_train, y_val = train_test_split(X_sequence, y, test_size=0.1,\n",
    "                                                  stratify=y)\n",
    "\n",
    "X_train.shape, X_val.shape, y_train.shape, y_val.shape"
   ]
  },
  {
   "cell_type": "code",
   "execution_count": 20,
   "metadata": {
    "colab": {
     "base_uri": "https://localhost:8080/"
    },
    "id": "vQFDJF2ZzIgz",
    "outputId": "95cb275a-d2bf-4f89-9d47-05168e324a66"
   },
   "outputs": [
    {
     "name": "stdout",
     "output_type": "stream",
     "text": [
      "Model: \"sequential\"\n",
      "_________________________________________________________________\n",
      " Layer (type)                Output Shape              Param #   \n",
      "=================================================================\n",
      " conv1d (Conv1D)             (None, 10, 64)            7168      \n",
      "                                                                 \n",
      " flatten (Flatten)           (None, 640)               0         \n",
      "                                                                 \n",
      " dense (Dense)               (None, 64)                41024     \n",
      "                                                                 \n",
      " dense_1 (Dense)             (None, 1)                 65        \n",
      "                                                                 \n",
      "=================================================================\n",
      "Total params: 48,257\n",
      "Trainable params: 48,257\n",
      "Non-trainable params: 0\n",
      "_________________________________________________________________\n"
     ]
    },
    {
     "name": "stderr",
     "output_type": "stream",
     "text": [
      "2024-02-18 10:35:34.153180: I tensorflow/core/platform/cpu_feature_guard.cc:193] This TensorFlow binary is optimized with oneAPI Deep Neural Network Library (oneDNN) to use the following CPU instructions in performance-critical operations:  SSE4.1 SSE4.2\n",
      "To enable them in other operations, rebuild TensorFlow with the appropriate compiler flags.\n"
     ]
    }
   ],
   "source": [
    "model = Sequential()\n",
    "\n",
    "# input_shape=(timesteps, features)\n",
    "model.add(Conv1D(64, kernel_size=3,\n",
    "                 input_shape=(X_train.shape[1], X_train.shape[2]),\n",
    "                 activation='relu', padding='same'))\n",
    "model.add(Flatten())\n",
    "model.add(Dense(64, activation='relu'))\n",
    "model.add(Dense(1, activation='sigmoid'))\n",
    "model.summary()"
   ]
  },
  {
   "cell_type": "code",
   "execution_count": 21,
   "metadata": {
    "id": "gBg-PTRMzeRW"
   },
   "outputs": [],
   "source": [
    "model.compile(loss='binary_crossentropy', optimizer='adam', metrics=['acc'])"
   ]
  },
  {
   "cell_type": "code",
   "execution_count": 22,
   "metadata": {
    "id": "4Y9pngt3znUO"
   },
   "outputs": [],
   "source": [
    "mc = ModelCheckpoint('./cnn.h5', save_best_only=True)"
   ]
  },
  {
   "cell_type": "code",
   "execution_count": 23,
   "metadata": {
    "colab": {
     "base_uri": "https://localhost:8080/"
    },
    "id": "Lz_DdKvCzwzP",
    "outputId": "46cbe6df-a294-4e3d-c0ab-3375a6717c6e"
   },
   "outputs": [
    {
     "name": "stdout",
     "output_type": "stream",
     "text": [
      "Epoch 1/20\n",
      "294/294 [==============================] - 1s 2ms/step - loss: 0.2303 - acc: 0.8946 - val_loss: 0.1455 - val_acc: 0.9357\n",
      "Epoch 2/20\n",
      "294/294 [==============================] - 0s 1ms/step - loss: 0.1203 - acc: 0.9463 - val_loss: 0.1089 - val_acc: 0.9530\n",
      "Epoch 3/20\n",
      "294/294 [==============================] - 0s 1ms/step - loss: 0.0973 - acc: 0.9584 - val_loss: 0.0836 - val_acc: 0.9626\n",
      "Epoch 4/20\n",
      "294/294 [==============================] - 0s 1ms/step - loss: 0.0756 - acc: 0.9634 - val_loss: 0.0801 - val_acc: 0.9587\n",
      "Epoch 5/20\n",
      "294/294 [==============================] - 0s 1ms/step - loss: 0.0730 - acc: 0.9661 - val_loss: 0.0891 - val_acc: 0.9607\n",
      "Epoch 6/20\n",
      "294/294 [==============================] - 0s 1ms/step - loss: 0.0686 - acc: 0.9706 - val_loss: 0.0642 - val_acc: 0.9712\n",
      "Epoch 7/20\n",
      "294/294 [==============================] - 0s 1ms/step - loss: 0.0630 - acc: 0.9723 - val_loss: 0.0613 - val_acc: 0.9731\n",
      "Epoch 8/20\n",
      "294/294 [==============================] - 0s 1ms/step - loss: 0.0552 - acc: 0.9748 - val_loss: 0.0649 - val_acc: 0.9693\n",
      "Epoch 9/20\n",
      "294/294 [==============================] - 0s 1ms/step - loss: 0.0476 - acc: 0.9784 - val_loss: 0.0414 - val_acc: 0.9818\n",
      "Epoch 10/20\n",
      "294/294 [==============================] - 0s 1ms/step - loss: 0.0448 - acc: 0.9810 - val_loss: 0.0464 - val_acc: 0.9798\n",
      "Epoch 11/20\n",
      "294/294 [==============================] - 0s 1ms/step - loss: 0.0460 - acc: 0.9801 - val_loss: 0.0395 - val_acc: 0.9856\n",
      "Epoch 12/20\n",
      "294/294 [==============================] - 0s 1ms/step - loss: 0.0590 - acc: 0.9792 - val_loss: 0.0781 - val_acc: 0.9655\n",
      "Epoch 13/20\n",
      "294/294 [==============================] - 0s 1ms/step - loss: 0.0369 - acc: 0.9852 - val_loss: 0.0274 - val_acc: 0.9894\n",
      "Epoch 14/20\n",
      "294/294 [==============================] - 0s 1ms/step - loss: 0.0331 - acc: 0.9860 - val_loss: 0.0316 - val_acc: 0.9837\n",
      "Epoch 15/20\n",
      "294/294 [==============================] - 0s 1ms/step - loss: 0.0451 - acc: 0.9838 - val_loss: 0.0264 - val_acc: 0.9904\n",
      "Epoch 16/20\n",
      "294/294 [==============================] - 0s 1ms/step - loss: 0.0292 - acc: 0.9888 - val_loss: 0.0234 - val_acc: 0.9885\n",
      "Epoch 17/20\n",
      "294/294 [==============================] - 0s 1ms/step - loss: 0.0303 - acc: 0.9869 - val_loss: 0.0224 - val_acc: 0.9904\n",
      "Epoch 18/20\n",
      "294/294 [==============================] - 0s 1ms/step - loss: 0.0271 - acc: 0.9899 - val_loss: 0.0237 - val_acc: 0.9875\n",
      "Epoch 19/20\n",
      "294/294 [==============================] - 0s 1ms/step - loss: 0.0280 - acc: 0.9887 - val_loss: 0.0218 - val_acc: 0.9894\n",
      "Epoch 20/20\n",
      "294/294 [==============================] - 0s 1ms/step - loss: 0.0286 - acc: 0.9894 - val_loss: 0.0838 - val_acc: 0.9616\n"
     ]
    }
   ],
   "source": [
    "history = model.fit(X_train, y_train, epochs=20,\n",
    "                    validation_data=(X_val, y_val), callbacks=[mc])"
   ]
  },
  {
   "cell_type": "code",
   "execution_count": 24,
   "metadata": {
    "colab": {
     "base_uri": "https://localhost:8080/",
     "height": 727
    },
    "id": "hbuJgmewz8im",
    "outputId": "760bae49-8089-4590-db37-1b57724664b6"
   },
   "outputs": [
    {
     "data": {
      "image/png": "[encoded data removed]",
      "text/plain": [
       "<Figure size 1000x800 with 1 Axes>"
      ]
     },
     "metadata": {},
     "output_type": "display_data"
    }
   ],
   "source": [
    "fig, ax = plt.subplots(figsize=(10, 8))\n",
    "ax.plot(history.history['loss'], label='train')\n",
    "ax.plot(history.history['val_loss'], label='val')\n",
    "ax.legend()\n",
    "ax.set_title('Learning curve')\n",
    "ax.set_xlabel('Epochs')\n",
    "ax.set_ylabel('Loss')\n",
    "plt.show()"
   ]
  },
  {
   "cell_type": "markdown",
   "metadata": {
    "id": "tahIDN_WDvQM"
   },
   "source": [
    "### Predictions\n",
    "\n",
    "We'll test the model by getting predictions for our test data.\n",
    "\n",
    "The steps followed here will be repeated on the Raspberry Pi, so we want to make sure these are repeatable."
   ]
  },
  {
   "cell_type": "code",
   "execution_count": 25,
   "metadata": {
    "colab": {
     "base_uri": "https://localhost:8080/"
    },
    "id": "hiJUdJpSDlNZ",
    "outputId": "f957503c-62b5-4a25-d3a5-4389401a78e0"
   },
   "outputs": [
    {
     "data": {
      "text/plain": [
       "((100, 80), (100, 1))"
      ]
     },
     "execution_count": 25,
     "metadata": {},
     "output_type": "execute_result"
    }
   ],
   "source": [
    "df_test_X = df_test.loc[:, df_test.columns != target]\n",
    "df_test_y = df_test[[target]]\n",
    "\n",
    "df_test_X.shape, df_test_y.shape"
   ]
  },
  {
   "cell_type": "code",
   "execution_count": 26,
   "metadata": {
    "colab": {
     "base_uri": "https://localhost:8080/"
    },
    "id": "USjKp883EOqk",
    "outputId": "b12d1659-99fc-43ad-9c04-6ede7262183d"
   },
   "outputs": [
    {
     "name": "stdout",
     "output_type": "stream",
     "text": [
      "(90, 10, 37)\n"
     ]
    },
    {
     "name": "stderr",
     "output_type": "stream",
     "text": [
      "/Users/montikallee/anaconda3/envs/py37/lib/python3.7/site-packages/sklearn/base.py:451: UserWarning: X does not have valid feature names, but MinMaxScaler was fitted with feature names\n",
      "  \"X does not have valid feature names, but\"\n"
     ]
    }
   ],
   "source": [
    "# select features\n",
    "test_X = vt.transform(df_test_X)\n",
    "\n",
    "# scale\n",
    "test_X_scaled = feature_scaler.transform(test_X)\n",
    "\n",
    "# create windowed\n",
    "rolling_indexes = [(range(i, i+timesteps))\n",
    "                   for i in range(test_X_scaled.shape[0]-timesteps)]\n",
    "\n",
    "test_X_sequence = np.take(test_X_scaled, rolling_indexes, axis=0)\n",
    "\n",
    "print(test_X_sequence.shape) # (rows, timesteps, features)"
   ]
  },
  {
   "cell_type": "code",
   "execution_count": 27,
   "metadata": {
    "colab": {
     "base_uri": "https://localhost:8080/"
    },
    "id": "zGz6tdoxJHcx",
    "outputId": "253bb692-bfde-4aae-8ba9-82b7ec3184a4"
   },
   "outputs": [
    {
     "name": "stdout",
     "output_type": "stream",
     "text": [
      "(90, 1)\n"
     ]
    }
   ],
   "source": [
    "# shift y down by window values so that we are predicting the future\n",
    "test_y = df_test_y[timesteps:]\n",
    "\n",
    "# make sure y is the same number of rows as test_X_sequence\n",
    "print(test_y.shape)"
   ]
  },
  {
   "cell_type": "code",
   "execution_count": 29,
   "metadata": {
    "id": "j4W4u4A7EvG-"
   },
   "outputs": [
    {
     "name": "stdout",
     "output_type": "stream",
     "text": [
      "3/3 [==============================] - 0s 1ms/step\n"
     ]
    }
   ],
   "source": [
    "# predict by loading the checkpointed model with the lowest validation loss\n",
    "best_model = load_model('./cnn.h5')\n",
    "pred = best_model.predict_classes(test_X_sequence)\n",
    "#pred = (best_model.predict(test_X_sequence) > 0.5).astype('int32')"
   ]
  },
  {
   "cell_type": "code",
   "execution_count": 30,
   "metadata": {
    "colab": {
     "base_uri": "https://localhost:8080/"
    },
    "id": "UTooEXjjJrMz",
    "outputId": "26e520e9-37ba-4a2d-cfff-696cc63cd4a7"
   },
   "outputs": [
    {
     "name": "stdout",
     "output_type": "stream",
     "text": [
      "              precision    recall  f1-score   support\n",
      "\n",
      "           1       1.00      1.00      1.00        90\n",
      "\n",
      "    accuracy                           1.00        90\n",
      "   macro avg       1.00      1.00      1.00        90\n",
      "weighted avg       1.00      1.00      1.00        90\n",
      "\n",
      "[[90]]\n"
     ]
    }
   ],
   "source": [
    "# score\n",
    "# print(classification_report(test_y, pred))\n",
    "# print(confusion_matrix(test_y, pred))\n",
    "\n",
    "print(classification_report(test_y, pred))\n",
    "print(confusion_matrix(test_y, pred))"
   ]
  },
  {
   "cell_type": "code",
   "execution_count": 45,
   "metadata": {
    "colab": {
     "base_uri": "https://localhost:8080/"
    },
    "id": "Oi4FLdOknzb8",
    "outputId": "9ea11bc4-515c-4036-940a-8fbece6b6d01"
   },
   "outputs": [
    {
     "data": {
      "text/plain": [
       "array([[1],\n",
       "       [1],\n",
       "       [1],\n",
       "       [1],\n",
       "       [1],\n",
       "       [1],\n",
       "       [1],\n",
       "       [1],\n",
       "       [1],\n",
       "       [1],\n",
       "       [1],\n",
       "       [1],\n",
       "       [1],\n",
       "       [1],\n",
       "       [1],\n",
       "       [1],\n",
       "       [1],\n",
       "       [1],\n",
       "       [1],\n",
       "       [1],\n",
       "       [1],\n",
       "       [1],\n",
       "       [1],\n",
       "       [1],\n",
       "       [1],\n",
       "       [1],\n",
       "       [1],\n",
       "       [1],\n",
       "       [1],\n",
       "       [1],\n",
       "       [1],\n",
       "       [1],\n",
       "       [1],\n",
       "       [1],\n",
       "       [1],\n",
       "       [1],\n",
       "       [1],\n",
       "       [1],\n",
       "       [1],\n",
       "       [1],\n",
       "       [1],\n",
       "       [1],\n",
       "       [1],\n",
       "       [1],\n",
       "       [1],\n",
       "       [1],\n",
       "       [1],\n",
       "       [1],\n",
       "       [1],\n",
       "       [1],\n",
       "       [1],\n",
       "       [1],\n",
       "       [1],\n",
       "       [1],\n",
       "       [1],\n",
       "       [1],\n",
       "       [1],\n",
       "       [1],\n",
       "       [1],\n",
       "       [1],\n",
       "       [1],\n",
       "       [1],\n",
       "       [1],\n",
       "       [1],\n",
       "       [1],\n",
       "       [1],\n",
       "       [1],\n",
       "       [1],\n",
       "       [1],\n",
       "       [1],\n",
       "       [1],\n",
       "       [1],\n",
       "       [1],\n",
       "       [1],\n",
       "       [1],\n",
       "       [1],\n",
       "       [1],\n",
       "       [1],\n",
       "       [1],\n",
       "       [1],\n",
       "       [1],\n",
       "       [1],\n",
       "       [1],\n",
       "       [1],\n",
       "       [1],\n",
       "       [1],\n",
       "       [1],\n",
       "       [1],\n",
       "       [1],\n",
       "       [1]])"
      ]
     },
     "execution_count": 45,
     "metadata": {},
     "output_type": "execute_result"
    }
   ],
   "source": [
    "pred\n"
   ]
  },
  {
   "cell_type": "code",
   "execution_count": 32,
   "metadata": {
    "colab": {
     "base_uri": "https://localhost:8080/"
    },
    "id": "-Y9NVNM1cOTe",
    "outputId": "e639ccbc-8b69-4fd6-ce16-d9f266db975d"
   },
   "outputs": [
    {
     "name": "stdout",
     "output_type": "stream",
     "text": [
      "33/33 [==============================] - 0s 658us/step\n",
      "              precision    recall  f1-score   support\n",
      "\n",
      "           0       0.99      0.99      0.99       493\n",
      "           1       0.99      0.99      0.99       549\n",
      "\n",
      "    accuracy                           0.99      1042\n",
      "   macro avg       0.99      0.99      0.99      1042\n",
      "weighted avg       0.99      0.99      0.99      1042\n",
      "\n",
      "[[488   5]\n",
      " [  6 543]]\n"
     ]
    }
   ],
   "source": [
    "# try to predict some class 0 values using validation set\n",
    "\n",
    "pred_val = model.predict_classes(X_val)\n",
    "#pred_val = (best_model.predict(X_val) > 0.5).astype('int32')\n",
    "\n",
    "# pred_val = model.predict(X_val)\n",
    "\n",
    "print(classification_report(y_val, pred_val))\n",
    "print(confusion_matrix(y_val, pred_val))"
   ]
  },
  {
   "cell_type": "markdown",
   "metadata": {
    "id": "V6Uk91yIeRqX"
   },
   "source": [
    "## Deployment\n",
    "\n",
    "1. Save pre-processors\n",
    "2. Convert to Tensorflow Lite: https://www.tensorflow.org/lite/convert#from_model_training_to_device_deployment"
   ]
  },
  {
   "cell_type": "code",
   "execution_count": 33,
   "metadata": {
    "id": "r2ATL_6He5GM"
   },
   "outputs": [],
   "source": [
    "# Save preprocessors, create a dictionary so that everything in 1 place\n",
    "\n",
    "preprocessors = {\n",
    "    'variance_threshold' : vt,\n",
    "    'feature_scaler' : feature_scaler\n",
    "}\n",
    "\n",
    "pickle.dump(preprocessors, open('./preprocessors.pkl', 'wb'))"
   ]
  },
  {
   "cell_type": "code",
   "execution_count": 34,
   "metadata": {
    "colab": {
     "base_uri": "https://localhost:8080/"
    },
    "id": "S-cvueJofSG3",
    "outputId": "365bef19-e05f-49b8-e4e3-62d175bbca8b"
   },
   "outputs": [
    {
     "name": "stderr",
     "output_type": "stream",
     "text": [
      "WARNING:absl:Optimization option OPTIMIZE_FOR_LATENCY is deprecated, please use optimizations=[Optimize.DEFAULT] instead.\n",
      "WARNING:absl:Found untraced functions such as _jit_compiled_convolution_op while saving (showing 1 of 1). These functions will not be directly callable after loading.\n"
     ]
    },
    {
     "name": "stdout",
     "output_type": "stream",
     "text": [
      "INFO:tensorflow:Assets written to: /var/folders/63/m3rv9r0166gbhjxz6gbpsbjm0000gn/T/tmp6h_95jjj/assets\n"
     ]
    },
    {
     "name": "stderr",
     "output_type": "stream",
     "text": [
      "INFO:tensorflow:Assets written to: /var/folders/63/m3rv9r0166gbhjxz6gbpsbjm0000gn/T/tmp6h_95jjj/assets\n",
      "WARNING:absl:Optimization option OPTIMIZE_FOR_LATENCY is deprecated, please use optimizations=[Optimize.DEFAULT] instead.\n",
      "WARNING:absl:Optimization option OPTIMIZE_FOR_LATENCY is deprecated, please use optimizations=[Optimize.DEFAULT] instead.\n",
      "2024-02-18 10:37:51.423642: W tensorflow/compiler/mlir/lite/python/tf_tfl_flatbuffer_helpers.cc:362] Ignored output_format.\n",
      "2024-02-18 10:37:51.423667: W tensorflow/compiler/mlir/lite/python/tf_tfl_flatbuffer_helpers.cc:365] Ignored drop_control_dependency.\n",
      "2024-02-18 10:37:51.426045: I tensorflow/cc/saved_model/reader.cc:45] Reading SavedModel from: /var/folders/63/m3rv9r0166gbhjxz6gbpsbjm0000gn/T/tmp6h_95jjj\n",
      "2024-02-18 10:37:51.428008: I tensorflow/cc/saved_model/reader.cc:89] Reading meta graph with tags { serve }\n",
      "2024-02-18 10:37:51.428019: I tensorflow/cc/saved_model/reader.cc:130] Reading SavedModel debug info (if present) from: /var/folders/63/m3rv9r0166gbhjxz6gbpsbjm0000gn/T/tmp6h_95jjj\n",
      "2024-02-18 10:37:51.431905: I tensorflow/compiler/mlir/mlir_graph_optimization_pass.cc:354] MLIR V1 optimization pass is not enabled\n",
      "2024-02-18 10:37:51.432729: I tensorflow/cc/saved_model/loader.cc:229] Restoring SavedModel bundle.\n",
      "2024-02-18 10:37:51.476963: I tensorflow/cc/saved_model/loader.cc:213] Running initialization op on SavedModel bundle at path: /var/folders/63/m3rv9r0166gbhjxz6gbpsbjm0000gn/T/tmp6h_95jjj\n",
      "2024-02-18 10:37:51.484430: I tensorflow/cc/saved_model/loader.cc:305] SavedModel load for tags { serve }; Status: success: OK. Took 58498 microseconds.\n",
      "2024-02-18 10:37:51.565108: I tensorflow/compiler/mlir/tensorflow/utils/dump_mlir_util.cc:268] disabling MLIR crash reproducer, set env var `MLIR_CRASH_REPRODUCER_DIRECTORY` to enable.\n"
     ]
    }
   ],
   "source": [
    "# Convert to Tensorflow lite\n",
    "\n",
    "# older version of TFLite\n",
    "# converter = tf.lite.TFLiteConverter.from_keras_model_file('./cnn.h5')\n",
    "\n",
    "# latest version of TFLite\n",
    "saved_model = tf.keras.models.load_model('./cnn.h5')\n",
    "converter = tf.lite.TFLiteConverter.from_keras_model(saved_model)\n",
    "\n",
    "# https://www.tensorflow.org/api_docs/python/tf/lite/Optimize\n",
    "converter.optimizations = [tf.lite.Optimize.OPTIMIZE_FOR_LATENCY]\n",
    "\n",
    "tflite_model = converter.convert()\n",
    "with open('./cnn.tflite', 'wb') as f:\n",
    "  f.write(tflite_model)"
   ]
  },
  {
   "cell_type": "markdown",
   "metadata": {
    "id": "JiitATTdskPd"
   },
   "source": [
    "### Testing TensorFlow Lite Inference\n",
    "\n",
    "https://www.tensorflow.org/lite/guide/inference#running_a_model\n",
    "\n",
    "Before running inference on a Raspberry Pi, it is easier to write code and test out the inference on a PC or Google Cloud."
   ]
  },
  {
   "cell_type": "code",
   "execution_count": 35,
   "metadata": {
    "id": "jDidAr3cueqA"
   },
   "outputs": [],
   "source": [
    "# This is the code we will run on the Raspberry Pi\n",
    "import pickle\n",
    "import numpy as np\n",
    "import tensorflow as tf\n",
    "\n",
    "def load_test_data(data_filename, preprocessors_filename):\n",
    "  timesteps = 10\n",
    "\n",
    "  # Load test data and process it\n",
    "  test_array = pickle.load(open(data_filename, 'rb'))\n",
    "\n",
    "  preprocessors = pickle.load(open(preprocessors_filename, 'rb'))\n",
    "  vt = preprocessors['variance_threshold']\n",
    "  feature_scaler = preprocessors['feature_scaler']\n",
    "\n",
    "  # select features\n",
    "  test_X = vt.transform(test_array)\n",
    "\n",
    "  # scale\n",
    "  test_X_scaled = feature_scaler.transform(test_X)\n",
    "\n",
    "  # create windowed\n",
    "  rolling_indexes = [(range(i, i+timesteps))\n",
    "                     for i in range(test_X_scaled.shape[0]-timesteps)]\n",
    "\n",
    "  test_X_sequence = np.take(test_X_scaled, rolling_indexes, axis=0)\n",
    "  print(test_X_sequence.shape) # (rows, timesteps, features)\n",
    "\n",
    "  return test_X_sequence"
   ]
  },
  {
   "cell_type": "code",
   "execution_count": 36,
   "metadata": {
    "colab": {
     "base_uri": "https://localhost:8080/"
    },
    "id": "4UVR01Qmwqoo",
    "outputId": "72149084-816b-4e1c-fde1-914774bdfbc1"
   },
   "outputs": [
    {
     "name": "stdout",
     "output_type": "stream",
     "text": [
      "(90, 10, 37)\n"
     ]
    },
    {
     "name": "stderr",
     "output_type": "stream",
     "text": [
      "/Users/montikallee/anaconda3/envs/py37/lib/python3.7/site-packages/sklearn/base.py:451: UserWarning: X does not have valid feature names, but VarianceThreshold was fitted with feature names\n",
      "  \"X does not have valid feature names, but\"\n",
      "/Users/montikallee/anaconda3/envs/py37/lib/python3.7/site-packages/sklearn/base.py:451: UserWarning: X does not have valid feature names, but MinMaxScaler was fitted with feature names\n",
      "  \"X does not have valid feature names, but\"\n"
     ]
    }
   ],
   "source": [
    "X_test = load_test_data('./X_test.pkl', './preprocessors.pkl')"
   ]
  },
  {
   "cell_type": "code",
   "execution_count": 37,
   "metadata": {
    "id": "mArG7XJat0Pu"
   },
   "outputs": [],
   "source": [
    "def predict(model_path, test_data):\n",
    "  # Load TFLite model and allocate tensors.\n",
    "  interpreter = tf.lite.Interpreter(model_path=model_path)\n",
    "  interpreter.allocate_tensors()\n",
    "\n",
    "  # Get input and output tensors.\n",
    "  input_details = interpreter.get_input_details()\n",
    "  output_details = interpreter.get_output_details()\n",
    "\n",
    "  # Test model on input data.\n",
    "  input_shape = input_details[0]['shape']\n",
    "\n",
    "  # Loop through each row of test_data and perform inference\n",
    "  for i in range(test_data.shape[0]):\n",
    "\n",
    "    # add batch dimension\n",
    "    input_data = np.expand_dims(test_data[i], axis=0).astype('float32')\n",
    "\n",
    "    interpreter.set_tensor(input_details[0]['index'], input_data)\n",
    "    interpreter.invoke()\n",
    "\n",
    "    # The function `get_tensor()` returns a copy of the tensor data.\n",
    "    # Use `tensor()` in order to get a pointer to the tensor.\n",
    "    output_data = interpreter.get_tensor(output_details[0]['index'])\n",
    "    print(output_data)"
   ]
  },
  {
   "cell_type": "markdown",
   "metadata": {
    "id": "shAXE78UKseL"
   },
   "source": [
    "### Exercise 1: Testing the compressed model\n",
    "<p>\n",
    "<font color=\"red\">\n",
    "Update the cell below to get predictions from N randomly chosen samples, using the Tensorflow Lite version of the model.\n",
    "</font>\n",
    "</p>\n",
    "<p>\n",
    "<font color=\"green\">\n",
    "Submission:\n",
    "<ol>\n",
    "<li type='a'>Paste the updated code into the submission worksheet</li>\n",
    "<li type='a'>Paste predictions into the submission worksheet</li>\n",
    "</ol>\n",
    "</font>\n",
    "</p>"
   ]
  },
  {
   "cell_type": "code",
   "execution_count": 52,
   "metadata": {
    "colab": {
     "base_uri": "https://localhost:8080/"
    },
    "id": "F__0o3I6uLtu",
    "outputId": "b9af8a04-d96d-4750-c9cb-061f97f3f37c"
   },
   "outputs": [
    {
     "name": "stdout",
     "output_type": "stream",
     "text": [
      "(90, 10, 37)\n",
      "[[1.]]\n",
      "[[1.]]\n",
      "[[1.]]\n",
      "[[1.]]\n",
      "[[1.]]\n",
      "[[1.]]\n",
      "[[1.]]\n"
     ]
    }
   ],
   "source": [
    "# Exercise: test out your compressed tensorflow lite model to get\n",
    "# predictions from randomly selected samples before deploying to the Edge device.\n",
    "#\n",
    "# Hint1: you may use the helper function above to get a prediction.\n",
    "# Hint2: you may use the following code to get a random selection of samples\n",
    "# N = <pick_a_number>\n",
    "# random_index = np.random.choice(range(len(X_test)), N)\n",
    "#\n",
    "\n",
    "X_test = load_test_data('./X_test.pkl', './preprocessors.pkl')\n",
    "\n",
    "#\n",
    "# ADD YOUR CODE BELOW\n",
    "#\n"
   ]
  },
  {
   "cell_type": "code",
   "execution_count": null,
   "metadata": {
    "id": "3yNSZ42B_tie"
   },
   "outputs": [],
   "source": []
  },
  {
   "cell_type": "code",
   "execution_count": null,
   "metadata": {
    "id": "jDnnbHrb7ktR"
   },
   "outputs": [],
   "source": []
  }
 ],
 "metadata": {
  "colab": {
   "provenance": []
  },
  "kernelspec": {
   "display_name": "py37",
   "language": "python",
   "name": "python3"
  },
  "language_info": {
   "codemirror_mode": {
    "name": "ipython",
    "version": 3
   },
   "file_extension": ".py",
   "mimetype": "text/x-python",
   "name": "python",
   "nbconvert_exporter": "python",
   "pygments_lexer": "ipython3",
   "version": "3.7.16"
  }
 },
 "nbformat": 4,
 "nbformat_minor": 1
}
