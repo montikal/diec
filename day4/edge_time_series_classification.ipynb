{
  "cells": [
    {
      "cell_type": "markdown",
      "metadata": {
        "colab_type": "text",
        "id": "view-in-github"
      },
      "source": [
        "<a href=\"https://colab.research.google.com/github/lisaong/diec/blob/master/day3/edge_time_series_classification.ipynb\" target=\"_parent\"><img src=\"https://colab.research.google.com/assets/colab-badge.svg\" alt=\"Open In Colab\"/></a>"
      ]
    },
    {
      "cell_type": "markdown",
      "metadata": {
        "colab_type": "text",
        "id": "3_4tTEupk1eV"
      },
      "source": [
        "\n",
        "# Edge Device Model Deployment\n",
        "\n",
        "In this notebook, we will train a deep learning model and deploy it to the edge.\n",
        "\n",
        "1. Train model using Keras\n",
        "2. Convert to compressed floating point version using Tensorflow Lite\n",
        "3. Deploy on Raspberry Pi\n",
        "\n",
        "We will use this dataset, which is gathered from a smart factory in Germany: https://www.kaggle.com/inIT-OWL/versatileproductionsystem\n",
        "\n"
      ]
    },
    {
      "cell_type": "code",
      "execution_count": 1,
      "metadata": {
        "colab": {
          "base_uri": "https://localhost:8080/",
          "height": 85
        },
        "colab_type": "code",
        "id": "KdnjFzcLyfbn",
        "outputId": "4c897627-4470-48bd-c075-d57e8df08af2"
      },
      "outputs": [
        {
          "name": "stdout",
          "output_type": "stream",
          "text": [
            "Requirement already satisfied: scikit-learn==0.22.0 in c:\\users\\mont\\.conda\\envs\\diec\\lib\\site-packages (0.22)\n",
            "Requirement already satisfied: scipy>=0.17.0 in c:\\users\\mont\\.conda\\envs\\diec\\lib\\site-packages (from scikit-learn==0.22.0) (1.10.0)\n",
            "Requirement already satisfied: joblib>=0.11 in c:\\users\\mont\\.conda\\envs\\diec\\lib\\site-packages (from scikit-learn==0.22.0) (1.2.0)\n",
            "Requirement already satisfied: numpy>=1.11.0 in c:\\users\\mont\\.conda\\envs\\diec\\lib\\site-packages (from scikit-learn==0.22.0) (1.20.3)\n"
          ]
        }
      ],
      "source": [
        "# Use matching version of sklearn as Raspberry Pi docker container\n",
        "!pip install scikit-learn==0.22.0\n",
        "!pip install numpy==1.20.3\n",
        "!pip install pandas\n",
        "!pip install tensorflow\n",
        "!pip install seaborn\n",
        "!pip install matplotlib\n",
        "\n"
      ]
    },
    {
      "cell_type": "code",
      "execution_count": 2,
      "metadata": {
        "colab": {
          "base_uri": "https://localhost:8080/",
          "height": 34
        },
        "colab_type": "code",
        "id": "iQsJxbFhGkwC",
        "outputId": "d6c6510a-7914-4f25-ea4c-ae10c15989b5"
      },
      "outputs": [
        {
          "name": "stderr",
          "output_type": "stream",
          "text": [
            "UsageError: Line magic function `%tensorflow_version` not found.\n"
          ]
        }
      ],
      "source": [
        "%tensorflow_version 2.x"
      ]
    },
    {
      "cell_type": "code",
      "execution_count": 1,
      "metadata": {
        "colab": {
          "base_uri": "https://localhost:8080/",
          "height": 34
        },
        "colab_type": "code",
        "id": "PHA7wNb2xwRN",
        "outputId": "0b067f8f-2fe4-45a5-99f8-c3452b9028d2"
      },
      "outputs": [
        {
          "data": {
            "text/plain": [
              "'0.22'"
            ]
          },
          "execution_count": 1,
          "metadata": {},
          "output_type": "execute_result"
        }
      ],
      "source": [
        "import sklearn\n",
        "sklearn.__version__"
      ]
    },
    {
      "cell_type": "code",
      "execution_count": 2,
      "metadata": {
        "colab": {},
        "colab_type": "code",
        "id": "smHIl430lswe"
      },
      "outputs": [],
      "source": [
        "import pandas as pd\n",
        "import numpy as np\n",
        "import pickle\n",
        "import matplotlib.pyplot as plt\n",
        "import seaborn as sns\n",
        "\n",
        "from sklearn.feature_selection import VarianceThreshold\n",
        "from sklearn.preprocessing import MinMaxScaler\n",
        "from sklearn.model_selection import train_test_split\n",
        "from sklearn.metrics import classification_report, confusion_matrix\n",
        "\n",
        "import tensorflow as tf\n",
        "from tensorflow.keras.models import Sequential, load_model\n",
        "from tensorflow.keras.layers import Dense, Conv1D, Flatten\n",
        "from tensorflow.keras.callbacks import ModelCheckpoint\n",
        "\n",
        "sns.set(style='whitegrid')\n",
        "%matplotlib inline"
      ]
    },
    {
      "cell_type": "markdown",
      "metadata": {
        "colab_type": "text",
        "id": "l9g7zOtylkXH"
      },
      "source": [
        "## Dataset\n",
        "\n",
        "Load the dataset from our github repository."
      ]
    },
    {
      "cell_type": "code",
      "execution_count": 5,
      "metadata": {
        "colab": {
          "base_uri": "https://localhost:8080/",
          "height": 73
        },
        "colab_type": "code",
        "id": "G9TTNMJZlwVL",
        "outputId": "3a0b6868-8e6f-4d59-e564-b0f40ccedd33"
      },
      "outputs": [
        {
          "name": "stderr",
          "output_type": "stream",
          "text": [
            "  % Total    % Received % Xferd  Average Speed   Time    Time     Time  Current\n",
            "                                 Dload  Upload   Total   Spent    Left  Speed\n",
            "\n",
            "  0     0    0     0    0     0      0      0 --:--:-- --:--:-- --:--:--     0\n",
            "100  397k  100  397k    0     0  4465k      0 --:--:-- --:--:-- --:--:-- 4520k\n"
          ]
        }
      ],
      "source": [
        "!curl https://raw.githubusercontent.com/lisaong/diec/master/data/versatileproductionsystem.zip --output data.zip"
      ]
    },
    {
      "cell_type": "code",
      "execution_count": 12,
      "metadata": {},
      "outputs": [],
      "source": [
        "import zipfile"
      ]
    },
    {
      "cell_type": "code",
      "execution_count": 14,
      "metadata": {},
      "outputs": [],
      "source": [
        "with zipfile.ZipFile('data.zip', 'r') as zip:\n",
        "    zip.extractall('./')"
      ]
    },
    {
      "cell_type": "code",
      "execution_count": 15,
      "metadata": {
        "colab": {
          "base_uri": "https://localhost:8080/",
          "height": 203
        },
        "colab_type": "code",
        "id": "x3yvFuQRl9HY",
        "outputId": "fc96e090-b112-48b2-8019-671e4604985c"
      },
      "outputs": [],
      "source": [
        "#!unzip -o data.zip"
      ]
    },
    {
      "cell_type": "code",
      "execution_count": 3,
      "metadata": {
        "colab": {
          "base_uri": "https://localhost:8080/",
          "height": 287
        },
        "colab_type": "code",
        "id": "5W1mQD8mmGZ_",
        "outputId": "1749bc8f-23c7-4c6e-e7e0-2dc602093bfa"
      },
      "outputs": [
        {
          "data": {
            "text/html": [
              "<div>\n",
              "<style scoped>\n",
              "    .dataframe tbody tr th:only-of-type {\n",
              "        vertical-align: middle;\n",
              "    }\n",
              "\n",
              "    .dataframe tbody tr th {\n",
              "        vertical-align: top;\n",
              "    }\n",
              "\n",
              "    .dataframe thead th {\n",
              "        text-align: right;\n",
              "    }\n",
              "</style>\n",
              "<table border=\"1\" class=\"dataframe\">\n",
              "  <thead>\n",
              "    <tr style=\"text-align: right;\">\n",
              "      <th></th>\n",
              "      <th>I_BottleAtAirpipe</th>\n",
              "      <th>I_BottleClampClose</th>\n",
              "      <th>I_BottleClampOpen</th>\n",
              "      <th>I_BottleGateClosed</th>\n",
              "      <th>I_BottleReserveGateClosed</th>\n",
              "      <th>I_BottlesAvailable</th>\n",
              "      <th>I_BottleSlot1</th>\n",
              "      <th>I_BottleSlot2_H2O</th>\n",
              "      <th>I_BottleSlot3_Corn</th>\n",
              "      <th>I_BottleSlot5_CapOn</th>\n",
              "      <th>...</th>\n",
              "      <th>BottlesAvailable.AnalogValue.EURangeViolation</th>\n",
              "      <th>BottleSlot1.AnalogValue.EURangeViolation</th>\n",
              "      <th>BottleSlot2_H2O.AnalogValue.EURangeViolation</th>\n",
              "      <th>BottleSlot3_Corn.AnalogValue.EURangeViolation</th>\n",
              "      <th>BottleSlot5_CapOn.AnalogValue.EURangeViolation</th>\n",
              "      <th>BottleSlot6_CapCloser.AnalogValue.EURangeViolation</th>\n",
              "      <th>BottleSlot8_ModuleOut.AnalogValue.EURangeViolation</th>\n",
              "      <th>BottlesNotUsed.AnalogValue.EURangeViolation</th>\n",
              "      <th>UltraSonic_Corn.DistanceM.EURangeViolation</th>\n",
              "      <th>UltraSonic_H2O.DistanceM.EURangeViolation</th>\n",
              "    </tr>\n",
              "    <tr>\n",
              "      <th>Timestamp</th>\n",
              "      <th></th>\n",
              "      <th></th>\n",
              "      <th></th>\n",
              "      <th></th>\n",
              "      <th></th>\n",
              "      <th></th>\n",
              "      <th></th>\n",
              "      <th></th>\n",
              "      <th></th>\n",
              "      <th></th>\n",
              "      <th></th>\n",
              "      <th></th>\n",
              "      <th></th>\n",
              "      <th></th>\n",
              "      <th></th>\n",
              "      <th></th>\n",
              "      <th></th>\n",
              "      <th></th>\n",
              "      <th></th>\n",
              "      <th></th>\n",
              "      <th></th>\n",
              "    </tr>\n",
              "  </thead>\n",
              "  <tbody>\n",
              "    <tr>\n",
              "      <th>1529500027127</th>\n",
              "      <td>0</td>\n",
              "      <td>0</td>\n",
              "      <td>1</td>\n",
              "      <td>1</td>\n",
              "      <td>1</td>\n",
              "      <td>1</td>\n",
              "      <td>0</td>\n",
              "      <td>0</td>\n",
              "      <td>0</td>\n",
              "      <td>0</td>\n",
              "      <td>...</td>\n",
              "      <td>0</td>\n",
              "      <td>0</td>\n",
              "      <td>0</td>\n",
              "      <td>0</td>\n",
              "      <td>0</td>\n",
              "      <td>0</td>\n",
              "      <td>0</td>\n",
              "      <td>0</td>\n",
              "      <td>0</td>\n",
              "      <td>0</td>\n",
              "    </tr>\n",
              "    <tr>\n",
              "      <th>1529500027227</th>\n",
              "      <td>0</td>\n",
              "      <td>0</td>\n",
              "      <td>1</td>\n",
              "      <td>1</td>\n",
              "      <td>1</td>\n",
              "      <td>1</td>\n",
              "      <td>0</td>\n",
              "      <td>0</td>\n",
              "      <td>0</td>\n",
              "      <td>0</td>\n",
              "      <td>...</td>\n",
              "      <td>0</td>\n",
              "      <td>0</td>\n",
              "      <td>0</td>\n",
              "      <td>0</td>\n",
              "      <td>0</td>\n",
              "      <td>0</td>\n",
              "      <td>0</td>\n",
              "      <td>0</td>\n",
              "      <td>0</td>\n",
              "      <td>0</td>\n",
              "    </tr>\n",
              "    <tr>\n",
              "      <th>1529500027327</th>\n",
              "      <td>0</td>\n",
              "      <td>0</td>\n",
              "      <td>1</td>\n",
              "      <td>1</td>\n",
              "      <td>1</td>\n",
              "      <td>1</td>\n",
              "      <td>0</td>\n",
              "      <td>0</td>\n",
              "      <td>0</td>\n",
              "      <td>0</td>\n",
              "      <td>...</td>\n",
              "      <td>0</td>\n",
              "      <td>0</td>\n",
              "      <td>0</td>\n",
              "      <td>0</td>\n",
              "      <td>0</td>\n",
              "      <td>0</td>\n",
              "      <td>0</td>\n",
              "      <td>0</td>\n",
              "      <td>0</td>\n",
              "      <td>0</td>\n",
              "    </tr>\n",
              "    <tr>\n",
              "      <th>1529500027428</th>\n",
              "      <td>0</td>\n",
              "      <td>0</td>\n",
              "      <td>1</td>\n",
              "      <td>1</td>\n",
              "      <td>1</td>\n",
              "      <td>1</td>\n",
              "      <td>0</td>\n",
              "      <td>0</td>\n",
              "      <td>0</td>\n",
              "      <td>0</td>\n",
              "      <td>...</td>\n",
              "      <td>0</td>\n",
              "      <td>0</td>\n",
              "      <td>0</td>\n",
              "      <td>0</td>\n",
              "      <td>0</td>\n",
              "      <td>0</td>\n",
              "      <td>0</td>\n",
              "      <td>0</td>\n",
              "      <td>0</td>\n",
              "      <td>0</td>\n",
              "    </tr>\n",
              "    <tr>\n",
              "      <th>1529500027528</th>\n",
              "      <td>0</td>\n",
              "      <td>0</td>\n",
              "      <td>1</td>\n",
              "      <td>1</td>\n",
              "      <td>1</td>\n",
              "      <td>1</td>\n",
              "      <td>0</td>\n",
              "      <td>0</td>\n",
              "      <td>0</td>\n",
              "      <td>0</td>\n",
              "      <td>...</td>\n",
              "      <td>0</td>\n",
              "      <td>0</td>\n",
              "      <td>0</td>\n",
              "      <td>0</td>\n",
              "      <td>0</td>\n",
              "      <td>0</td>\n",
              "      <td>0</td>\n",
              "      <td>0</td>\n",
              "      <td>0</td>\n",
              "      <td>0</td>\n",
              "    </tr>\n",
              "  </tbody>\n",
              "</table>\n",
              "<p>5 rows × 84 columns</p>\n",
              "</div>"
            ],
            "text/plain": [
              "               I_BottleAtAirpipe  I_BottleClampClose  I_BottleClampOpen  \\\n",
              "Timestamp                                                                 \n",
              "1529500027127                  0                   0                  1   \n",
              "1529500027227                  0                   0                  1   \n",
              "1529500027327                  0                   0                  1   \n",
              "1529500027428                  0                   0                  1   \n",
              "1529500027528                  0                   0                  1   \n",
              "\n",
              "               I_BottleGateClosed  I_BottleReserveGateClosed  \\\n",
              "Timestamp                                                      \n",
              "1529500027127                   1                          1   \n",
              "1529500027227                   1                          1   \n",
              "1529500027327                   1                          1   \n",
              "1529500027428                   1                          1   \n",
              "1529500027528                   1                          1   \n",
              "\n",
              "               I_BottlesAvailable  I_BottleSlot1  I_BottleSlot2_H2O  \\\n",
              "Timestamp                                                             \n",
              "1529500027127                   1              0                  0   \n",
              "1529500027227                   1              0                  0   \n",
              "1529500027327                   1              0                  0   \n",
              "1529500027428                   1              0                  0   \n",
              "1529500027528                   1              0                  0   \n",
              "\n",
              "               I_BottleSlot3_Corn  I_BottleSlot5_CapOn  ...  \\\n",
              "Timestamp                                               ...   \n",
              "1529500027127                   0                    0  ...   \n",
              "1529500027227                   0                    0  ...   \n",
              "1529500027327                   0                    0  ...   \n",
              "1529500027428                   0                    0  ...   \n",
              "1529500027528                   0                    0  ...   \n",
              "\n",
              "               BottlesAvailable.AnalogValue.EURangeViolation  \\\n",
              "Timestamp                                                      \n",
              "1529500027127                                              0   \n",
              "1529500027227                                              0   \n",
              "1529500027327                                              0   \n",
              "1529500027428                                              0   \n",
              "1529500027528                                              0   \n",
              "\n",
              "               BottleSlot1.AnalogValue.EURangeViolation  \\\n",
              "Timestamp                                                 \n",
              "1529500027127                                         0   \n",
              "1529500027227                                         0   \n",
              "1529500027327                                         0   \n",
              "1529500027428                                         0   \n",
              "1529500027528                                         0   \n",
              "\n",
              "               BottleSlot2_H2O.AnalogValue.EURangeViolation  \\\n",
              "Timestamp                                                     \n",
              "1529500027127                                             0   \n",
              "1529500027227                                             0   \n",
              "1529500027327                                             0   \n",
              "1529500027428                                             0   \n",
              "1529500027528                                             0   \n",
              "\n",
              "               BottleSlot3_Corn.AnalogValue.EURangeViolation  \\\n",
              "Timestamp                                                      \n",
              "1529500027127                                              0   \n",
              "1529500027227                                              0   \n",
              "1529500027327                                              0   \n",
              "1529500027428                                              0   \n",
              "1529500027528                                              0   \n",
              "\n",
              "               BottleSlot5_CapOn.AnalogValue.EURangeViolation  \\\n",
              "Timestamp                                                       \n",
              "1529500027127                                               0   \n",
              "1529500027227                                               0   \n",
              "1529500027327                                               0   \n",
              "1529500027428                                               0   \n",
              "1529500027528                                               0   \n",
              "\n",
              "               BottleSlot6_CapCloser.AnalogValue.EURangeViolation  \\\n",
              "Timestamp                                                           \n",
              "1529500027127                                                  0    \n",
              "1529500027227                                                  0    \n",
              "1529500027327                                                  0    \n",
              "1529500027428                                                  0    \n",
              "1529500027528                                                  0    \n",
              "\n",
              "               BottleSlot8_ModuleOut.AnalogValue.EURangeViolation  \\\n",
              "Timestamp                                                           \n",
              "1529500027127                                                  0    \n",
              "1529500027227                                                  0    \n",
              "1529500027327                                                  0    \n",
              "1529500027428                                                  0    \n",
              "1529500027528                                                  0    \n",
              "\n",
              "               BottlesNotUsed.AnalogValue.EURangeViolation  \\\n",
              "Timestamp                                                    \n",
              "1529500027127                                            0   \n",
              "1529500027227                                            0   \n",
              "1529500027327                                            0   \n",
              "1529500027428                                            0   \n",
              "1529500027528                                            0   \n",
              "\n",
              "               UltraSonic_Corn.DistanceM.EURangeViolation  \\\n",
              "Timestamp                                                   \n",
              "1529500027127                                           0   \n",
              "1529500027227                                           0   \n",
              "1529500027327                                           0   \n",
              "1529500027428                                           0   \n",
              "1529500027528                                           0   \n",
              "\n",
              "               UltraSonic_H2O.DistanceM.EURangeViolation  \n",
              "Timestamp                                                 \n",
              "1529500027127                                          0  \n",
              "1529500027227                                          0  \n",
              "1529500027327                                          0  \n",
              "1529500027428                                          0  \n",
              "1529500027528                                          0  \n",
              "\n",
              "[5 rows x 84 columns]"
            ]
          },
          "execution_count": 3,
          "metadata": {},
          "output_type": "execute_result"
        }
      ],
      "source": [
        "# read one of the data files\n",
        "df = pd.read_csv('./Filling_ALL.module.csv', index_col=0)\n",
        "df.head()"
      ]
    },
    {
      "cell_type": "markdown",
      "metadata": {
        "colab_type": "text",
        "id": "B4L4UWkHnK3q"
      },
      "source": [
        "## Task Definition\n",
        "\n",
        "A common factory monitoring scenario is to predict a target based on past history.\n",
        "\n",
        "For the purposes of this workshop, let's try to predict the value of 'I_BottlesReserveAvailable', using last 10 values of each feature."
      ]
    },
    {
      "cell_type": "code",
      "execution_count": 4,
      "metadata": {
        "colab": {
          "base_uri": "https://localhost:8080/",
          "height": 285
        },
        "colab_type": "code",
        "id": "KVGhZWp0mSco",
        "outputId": "97fb142b-4971-48f4-a260-0a9a79512f4b"
      },
      "outputs": [
        {
          "data": {
            "image/png": "[encoded data removed]",
            "text/plain": [
              "<Figure size 640x480 with 1 Axes>"
            ]
          },
          "metadata": {},
          "output_type": "display_data"
        }
      ],
      "source": [
        "# Target\n",
        "target = 'I_BottlesReserveAvailable'\n",
        "\n",
        "df[target].plot();"
      ]
    },
    {
      "cell_type": "code",
      "execution_count": 5,
      "metadata": {
        "colab": {
          "base_uri": "https://localhost:8080/",
          "height": 73
        },
        "colab_type": "code",
        "id": "vJxiO4oBWv79",
        "outputId": "08bd2f45-ded1-45de-9551-91250bb07730"
      },
      "outputs": [
        {
          "data": {
            "text/plain": [
              "1    5603\n",
              "0    4926\n",
              "Name: I_BottlesReserveAvailable, dtype: int64"
            ]
          },
          "execution_count": 5,
          "metadata": {},
          "output_type": "execute_result"
        }
      ],
      "source": [
        "# check for balanced classes\n",
        "df[target].value_counts()"
      ]
    },
    {
      "cell_type": "code",
      "execution_count": 6,
      "metadata": {
        "colab": {
          "base_uri": "https://localhost:8080/",
          "height": 667
        },
        "colab_type": "code",
        "id": "dSPmAh6OZO24",
        "outputId": "4a49461e-3d75-44f2-be23-73c9cc654d97"
      },
      "outputs": [
        {
          "data": {
            "text/plain": [
              "Index(['I_BottleAtAirpipe', 'I_BottleClampClose', 'I_BottleClampOpen',\n",
              "       'I_BottleGateClosed', 'I_BottleReserveGateClosed', 'I_BottlesAvailable',\n",
              "       'I_BottleSlot1', 'I_BottleSlot2_H2O', 'I_BottleSlot3_Corn',\n",
              "       'I_BottleSlot5_CapOn', 'I_BottleSlot6_CapScrewer',\n",
              "       'I_BottleSlot8_Output', 'I_BottlesReserveAvailable', 'I_CapGrabberDown',\n",
              "       'I_CapGrabberUp', 'I_CapOnConveyor', 'I_CapScrewer_Down',\n",
              "       'I_CapScrewer_Up', 'I_CapScrewerClosePos', 'I_CapScrewerGrabClosed',\n",
              "       'I_CapScrewerOpenPos', 'I_CornTankFull', 'I_LinAxisCapInGrabber',\n",
              "       'I_LinAxisDown', 'I_LinAxisEmptyGrabber', 'I_LinAxisUp',\n",
              "       'I_NoCapOnConveyor', 'I_Portioning', 'I_Pump_Down', 'I_Pump_Up',\n",
              "       'I_RotaryTablePosReached', 'I_UltrasonicCorn',\n",
              "       'I_UltrasonicCorn_Distance', 'I_UltrasonicH2O',\n",
              "       'I_UltrasonicH2O_Distance', 'I_WaterTankMinFull', 'I_WaterTankNotFull',\n",
              "       'O_ActivateAirpipe', 'O_BottleClampClose', 'O_CapGrabberOpenClose',\n",
              "       'O_CapGrabberUpDown', 'O_CapScrewDown', 'O_CapScrewerGrabberOpenClose',\n",
              "       'O_CloseCap', 'O_ConveyorCapsEnable', 'O_ConveyorCapsForward',\n",
              "       'O_ConveyorModuleIn', 'O_ConveyorModuleOut', 'O_GateBottleClose',\n",
              "       'O_GateReserveClose', 'O_LinAxisUpDown', 'O_PortionerForward',\n",
              "       'O_PortionerReverse', 'O_PortionerSlow', 'O_PumpUpDown',\n",
              "       'O_RotaryTable', 'O_ValvePumpCloseOpen', 'PendingOrder', 'Portions',\n",
              "       'PumpStrokes', 'Rotating', 'SlowPortioning', 'State', 'BottleSlot1',\n",
              "       'BottleSlot2_H2O', 'BottleSlot3_Corn', 'BottleSlot5_CapOn',\n",
              "       'BottleSlot6_CapCloser', 'BottleSlot8_ModuleOut',\n",
              "       'UltraSonic_Corn.DistanceM', 'UltraSonic_H2O.DistanceM',\n",
              "       'BottlesAvailable.AnalogValue.EURangeViolation',\n",
              "       'BottleSlot1.AnalogValue.EURangeViolation',\n",
              "       'BottleSlot2_H2O.AnalogValue.EURangeViolation',\n",
              "       'BottleSlot3_Corn.AnalogValue.EURangeViolation',\n",
              "       'BottleSlot5_CapOn.AnalogValue.EURangeViolation',\n",
              "       'BottleSlot6_CapCloser.AnalogValue.EURangeViolation',\n",
              "       'BottleSlot8_ModuleOut.AnalogValue.EURangeViolation',\n",
              "       'BottlesNotUsed.AnalogValue.EURangeViolation',\n",
              "       'UltraSonic_Corn.DistanceM.EURangeViolation',\n",
              "       'UltraSonic_H2O.DistanceM.EURangeViolation'],\n",
              "      dtype='object')"
            ]
          },
          "execution_count": 6,
          "metadata": {},
          "output_type": "execute_result"
        }
      ],
      "source": [
        "# drop some columns that the target is derived from (otherwise we are cheating)\n",
        "df.drop(['BottlesAvailable', 'BottlesNotUsed', 'I_BottleStorageFull'], axis=1, inplace=True)\n",
        "df.columns"
      ]
    },
    {
      "cell_type": "markdown",
      "metadata": {
        "colab_type": "text",
        "id": "s-PJjLMPLNKV"
      },
      "source": []
    },
    {
      "cell_type": "markdown",
      "metadata": {
        "colab_type": "text",
        "id": "Vdl1Wtt7w526"
      },
      "source": [
        "## Reserve for testing\n",
        "\n",
        "Reserve the some values for testing on the Raspberry Pi.\n"
      ]
    },
    {
      "cell_type": "code",
      "execution_count": 7,
      "metadata": {
        "colab": {
          "base_uri": "https://localhost:8080/",
          "height": 36
        },
        "colab_type": "code",
        "id": "CFR6DTl5xDwK",
        "outputId": "1db3d989-0ead-4c26-edd7-827a7851b431"
      },
      "outputs": [
        {
          "data": {
            "text/plain": [
              "((10429, 81), (100, 81))"
            ]
          },
          "execution_count": 7,
          "metadata": {},
          "output_type": "execute_result"
        }
      ],
      "source": [
        "test_size = 100\n",
        "\n",
        "df_train = df.iloc[:-test_size]\n",
        "df_test = df.iloc[-test_size:]\n",
        "\n",
        "df_train.shape, df_test.shape"
      ]
    },
    {
      "cell_type": "code",
      "execution_count": 8,
      "metadata": {
        "colab": {},
        "colab_type": "code",
        "id": "jTFHCNClxGda"
      },
      "outputs": [],
      "source": [
        "# save input numpy arrays for later use\n",
        "pickle.dump(df_train.loc[:, df_train.columns != target].values,\n",
        "            open('./X_train.pkl', 'wb'))\n",
        "\n",
        "pickle.dump(df_test.loc[:, df_test.columns != target].values,\n",
        "            open('./X_test.pkl', 'wb'))"
      ]
    },
    {
      "cell_type": "markdown",
      "metadata": {
        "colab_type": "text",
        "id": "Wi1EqEi0p_Ig"
      },
      "source": [
        "## Feature Selection\n",
        "\n",
        "First, some basic feature selection: Filter out columns that don't change very much (low variance). "
      ]
    },
    {
      "cell_type": "code",
      "execution_count": 9,
      "metadata": {
        "colab": {
          "base_uri": "https://localhost:8080/",
          "height": 648
        },
        "colab_type": "code",
        "id": "RJl8kbsfnc0C",
        "outputId": "8afa6202-22cd-43bf-c727-3f262506e833"
      },
      "outputs": [
        {
          "data": {
            "text/plain": [
              "Index(['I_BottleAtAirpipe', 'I_BottleClampClose', 'I_BottleClampOpen',\n",
              "       'I_BottleGateClosed', 'I_BottleReserveGateClosed', 'I_BottlesAvailable',\n",
              "       'I_BottleSlot1', 'I_BottleSlot2_H2O', 'I_BottleSlot3_Corn',\n",
              "       'I_BottleSlot5_CapOn', 'I_BottleSlot6_CapScrewer',\n",
              "       'I_BottleSlot8_Output', 'I_CapGrabberDown', 'I_CapGrabberUp',\n",
              "       'I_CapOnConveyor', 'I_CapScrewer_Down', 'I_CapScrewer_Up',\n",
              "       'I_CapScrewerClosePos', 'I_CapScrewerGrabClosed', 'I_CapScrewerOpenPos',\n",
              "       'I_CornTankFull', 'I_LinAxisCapInGrabber', 'I_LinAxisDown',\n",
              "       'I_LinAxisEmptyGrabber', 'I_LinAxisUp', 'I_NoCapOnConveyor',\n",
              "       'I_Portioning', 'I_Pump_Down', 'I_Pump_Up', 'I_RotaryTablePosReached',\n",
              "       'I_UltrasonicCorn', 'I_UltrasonicCorn_Distance', 'I_UltrasonicH2O',\n",
              "       'I_UltrasonicH2O_Distance', 'I_WaterTankMinFull', 'I_WaterTankNotFull',\n",
              "       'O_ActivateAirpipe', 'O_BottleClampClose', 'O_CapGrabberOpenClose',\n",
              "       'O_CapGrabberUpDown', 'O_CapScrewDown', 'O_CapScrewerGrabberOpenClose',\n",
              "       'O_CloseCap', 'O_ConveyorCapsEnable', 'O_ConveyorCapsForward',\n",
              "       'O_ConveyorModuleIn', 'O_ConveyorModuleOut', 'O_GateBottleClose',\n",
              "       'O_GateReserveClose', 'O_LinAxisUpDown', 'O_PortionerForward',\n",
              "       'O_PortionerReverse', 'O_PortionerSlow', 'O_PumpUpDown',\n",
              "       'O_RotaryTable', 'O_ValvePumpCloseOpen', 'PendingOrder', 'Portions',\n",
              "       'PumpStrokes', 'Rotating', 'SlowPortioning', 'State', 'BottleSlot1',\n",
              "       'BottleSlot2_H2O', 'BottleSlot3_Corn', 'BottleSlot5_CapOn',\n",
              "       'BottleSlot6_CapCloser', 'BottleSlot8_ModuleOut',\n",
              "       'UltraSonic_Corn.DistanceM', 'UltraSonic_H2O.DistanceM',\n",
              "       'BottlesAvailable.AnalogValue.EURangeViolation',\n",
              "       'BottleSlot1.AnalogValue.EURangeViolation',\n",
              "       'BottleSlot2_H2O.AnalogValue.EURangeViolation',\n",
              "       'BottleSlot3_Corn.AnalogValue.EURangeViolation',\n",
              "       'BottleSlot5_CapOn.AnalogValue.EURangeViolation',\n",
              "       'BottleSlot6_CapCloser.AnalogValue.EURangeViolation',\n",
              "       'BottleSlot8_ModuleOut.AnalogValue.EURangeViolation',\n",
              "       'BottlesNotUsed.AnalogValue.EURangeViolation',\n",
              "       'UltraSonic_Corn.DistanceM.EURangeViolation',\n",
              "       'UltraSonic_H2O.DistanceM.EURangeViolation'],\n",
              "      dtype='object')"
            ]
          },
          "execution_count": 9,
          "metadata": {},
          "output_type": "execute_result"
        }
      ],
      "source": [
        "# Candidate features\n",
        "\n",
        "candidates = df_train.columns[df_train.columns != target]\n",
        "candidates"
      ]
    },
    {
      "cell_type": "code",
      "execution_count": 10,
      "metadata": {
        "colab": {
          "base_uri": "https://localhost:8080/",
          "height": 277
        },
        "colab_type": "code",
        "id": "Y6RmjiHnosf0",
        "outputId": "ab1e7af2-507a-47e0-af58-90b658356a9e"
      },
      "outputs": [
        {
          "data": {
            "text/plain": [
              "Index(['I_BottleClampClose', 'I_BottleClampOpen', 'I_BottleSlot2_H2O',\n",
              "       'I_BottleSlot3_Corn', 'I_BottleSlot5_CapOn', 'I_BottleSlot6_CapScrewer',\n",
              "       'I_CapGrabberUp', 'I_CapScrewer_Up', 'I_CapScrewerOpenPos',\n",
              "       'I_LinAxisCapInGrabber', 'I_LinAxisDown', 'I_LinAxisEmptyGrabber',\n",
              "       'I_Pump_Down', 'I_RotaryTablePosReached', 'I_UltrasonicCorn',\n",
              "       'I_UltrasonicCorn_Distance', 'I_UltrasonicH2O_Distance',\n",
              "       'O_BottleClampClose', 'O_CapGrabberOpenClose', 'O_CapGrabberUpDown',\n",
              "       'O_CapScrewDown', 'O_CloseCap', 'O_ConveyorCapsForward',\n",
              "       'O_LinAxisUpDown', 'O_RotaryTable', 'O_ValvePumpCloseOpen',\n",
              "       'PendingOrder', 'Rotating', 'State', 'BottleSlot1', 'BottleSlot2_H2O',\n",
              "       'BottleSlot3_Corn', 'BottleSlot5_CapOn', 'BottleSlot6_CapCloser',\n",
              "       'BottleSlot8_ModuleOut', 'UltraSonic_Corn.DistanceM',\n",
              "       'UltraSonic_H2O.DistanceM'],\n",
              "      dtype='object')"
            ]
          },
          "execution_count": 10,
          "metadata": {},
          "output_type": "execute_result"
        }
      ],
      "source": [
        "# Apply variance threshold of 0.1\n",
        "vt = VarianceThreshold(threshold=0.1)\n",
        "vt.fit(df_train[candidates])\n",
        "\n",
        "# filtered out features\n",
        "features = candidates[vt.get_support()]\n",
        "features"
      ]
    },
    {
      "cell_type": "markdown",
      "metadata": {
        "colab_type": "text",
        "id": "I450WKGxp8iK"
      },
      "source": [
        "## Scaling\n",
        "\n",
        "Next, scale the features so that we can speed up training."
      ]
    },
    {
      "cell_type": "code",
      "execution_count": 11,
      "metadata": {
        "colab": {
          "base_uri": "https://localhost:8080/",
          "height": 258
        },
        "colab_type": "code",
        "id": "sxqF8I-Ns2xj",
        "outputId": "570448fc-c85c-4a16-c665-52561e2193d6"
      },
      "outputs": [
        {
          "data": {
            "text/plain": [
              "array([[-1.        ,  1.        , -1.        , ..., -0.99369085,\n",
              "        -0.94641148,  1.        ],\n",
              "       [-1.        ,  1.        , -1.        , ..., -0.99369085,\n",
              "        -0.94449761,  1.        ],\n",
              "       [-1.        ,  1.        , -1.        , ..., -0.99369085,\n",
              "        -0.95215311,  1.        ],\n",
              "       ...,\n",
              "       [-1.        ,  1.        , -1.        , ..., -0.99369085,\n",
              "        -0.99808612, -0.53684211],\n",
              "       [-1.        ,  1.        , -1.        , ..., -0.99369085,\n",
              "        -0.99808612, -0.53684211],\n",
              "       [-1.        ,  1.        , -1.        , ..., -0.99369085,\n",
              "        -0.99808612, -0.53684211]])"
            ]
          },
          "execution_count": 11,
          "metadata": {},
          "output_type": "execute_result"
        }
      ],
      "source": [
        "feature_scaler = MinMaxScaler(feature_range=(-1, 1))\n",
        "feature_values = feature_scaler.fit_transform(df_train[features])\n",
        "feature_values"
      ]
    },
    {
      "cell_type": "markdown",
      "metadata": {
        "colab_type": "text",
        "id": "QwfGR-uttMFp"
      },
      "source": [
        "## Time Series Windowing\n",
        "\n",
        "Next, convert the time series so that each entry contains a series of timesteps.\n",
        "\n",
        "Before: rows, features\n",
        "\n",
        "After: rows, timesteps, features\n",
        "\n",
        "Note that some rows will be removed because we are taking a window of values."
      ]
    },
    {
      "cell_type": "code",
      "execution_count": 12,
      "metadata": {
        "colab": {
          "base_uri": "https://localhost:8080/",
          "height": 54
        },
        "colab_type": "code",
        "id": "dQcRa6rhuAT6",
        "outputId": "fa0d06dd-4bec-4e6a-ce0e-81100dfc4ae1"
      },
      "outputs": [
        {
          "name": "stdout",
          "output_type": "stream",
          "text": [
            "(10429, 37)\n"
          ]
        },
        {
          "data": {
            "text/plain": [
              "(10419, 10, 37)"
            ]
          },
          "execution_count": 12,
          "metadata": {},
          "output_type": "execute_result"
        }
      ],
      "source": [
        "timesteps = 10\n",
        "\n",
        "print(feature_values.shape) # (rows, features)\n",
        "\n",
        "rolling_indexes = [(range(i, i+timesteps))\n",
        "                   for i in range(feature_values.shape[0]-timesteps)]\n",
        "\n",
        "X_sequence = np.take(feature_values, rolling_indexes, axis=0)\n",
        "X_sequence.shape # (rows, timesteps, features)"
      ]
    },
    {
      "cell_type": "code",
      "execution_count": 13,
      "metadata": {
        "colab": {
          "base_uri": "https://localhost:8080/",
          "height": 36
        },
        "colab_type": "code",
        "id": "9S6D2yR2u_Jk",
        "outputId": "cb2be584-57db-49d9-dd8d-2a3382e2bef6"
      },
      "outputs": [
        {
          "name": "stderr",
          "output_type": "stream",
          "text": [
            "C:\\Users\\mont\\AppData\\Local\\Temp\\ipykernel_2948\\1659995372.py:5: FutureWarning: The behavior of `series[i:j]` with an integer-dtype index is deprecated. In a future version, this will be treated as *label-based* indexing, consistent with e.g. `series[i]` lookups. To retain the old behavior, use `series.iloc[i:j]`. To get the future behavior, use `series.loc[i:j]`.\n",
            "  y = df[target][timesteps:X_sequence.shape[0]+timesteps].values\n"
          ]
        },
        {
          "data": {
            "text/plain": [
              "(10419,)"
            ]
          },
          "execution_count": 13,
          "metadata": {},
          "output_type": "execute_result"
        }
      ],
      "source": [
        "# shift y down by 1 value so that we are predicting the future\n",
        "# make sure y is the same length as X_sequence\n",
        "\n",
        "# print(df[target].shape)\n",
        "y = df[target][timesteps:X_sequence.shape[0]+timesteps].values\n",
        "y.shape"
      ]
    },
    {
      "cell_type": "markdown",
      "metadata": {
        "colab_type": "text",
        "id": "4X6W5eIGvqvu"
      },
      "source": [
        "## Train model\n",
        "\n",
        "We will train a very simple 1D convolutional model to try to predict y from X_sequence. \n",
        "\n",
        "To recap:\n",
        "\n",
        "- X_sequence (rows, timesteps, features): each scaled feature at [t-9] ... [t]\n",
        "- y (rows): target[t+1]\n",
        "\n",
        "The convolutional 1D layer will look at windows of timesteps, one feature at a time. Here's a more detailed reference on it for time series data: https://missinglink.ai/guides/keras/keras-conv1d-working-1d-convolutional-neural-networks-keras/\n",
        "\n",
        "\n",
        "Note: we can also train an LSTM model, but currently Tensorflow Lite with Keras does not support it nicely (yet): https://github.com/tensorflow/tensorflow/issues/30864"
      ]
    },
    {
      "cell_type": "code",
      "execution_count": 14,
      "metadata": {
        "colab": {
          "base_uri": "https://localhost:8080/",
          "height": 36
        },
        "colab_type": "code",
        "id": "ZJNTF_O0wwWx",
        "outputId": "c128d60f-626c-4eae-e989-aecedccef0b5"
      },
      "outputs": [
        {
          "data": {
            "text/plain": [
              "((9377, 10, 37), (1042, 10, 37), (9377,), (1042,))"
            ]
          },
          "execution_count": 14,
          "metadata": {},
          "output_type": "execute_result"
        }
      ],
      "source": [
        "# create training and validation set\n",
        "X_train, X_val, y_train, y_val = train_test_split(X_sequence, y, test_size=0.1,\n",
        "                                                  stratify=y)\n",
        "\n",
        "X_train.shape, X_val.shape, y_train.shape, y_val.shape"
      ]
    },
    {
      "cell_type": "code",
      "execution_count": 15,
      "metadata": {
        "colab": {
          "base_uri": "https://localhost:8080/",
          "height": 314
        },
        "colab_type": "code",
        "id": "vQFDJF2ZzIgz",
        "outputId": "ef902514-a6df-4532-bc7b-1c7f71560d41"
      },
      "outputs": [
        {
          "name": "stdout",
          "output_type": "stream",
          "text": [
            "Model: \"sequential\"\n",
            "_________________________________________________________________\n",
            " Layer (type)                Output Shape              Param #   \n",
            "=================================================================\n",
            " conv1d (Conv1D)             (None, 10, 64)            7168      \n",
            "                                                                 \n",
            " flatten (Flatten)           (None, 640)               0         \n",
            "                                                                 \n",
            " dense (Dense)               (None, 64)                41024     \n",
            "                                                                 \n",
            " dense_1 (Dense)             (None, 1)                 65        \n",
            "                                                                 \n",
            "=================================================================\n",
            "Total params: 48,257\n",
            "Trainable params: 48,257\n",
            "Non-trainable params: 0\n",
            "_________________________________________________________________\n"
          ]
        }
      ],
      "source": [
        "model = Sequential()\n",
        "\n",
        "# input_shape=(timesteps, features)\n",
        "model.add(Conv1D(64, kernel_size=3,\n",
        "                 input_shape=(X_train.shape[1], X_train.shape[2]),\n",
        "                 activation='relu', padding='same'))\n",
        "model.add(Flatten())\n",
        "model.add(Dense(64, activation='relu'))\n",
        "model.add(Dense(1, activation='sigmoid'))\n",
        "model.summary()"
      ]
    },
    {
      "cell_type": "code",
      "execution_count": 16,
      "metadata": {
        "colab": {},
        "colab_type": "code",
        "id": "gBg-PTRMzeRW"
      },
      "outputs": [],
      "source": [
        "model.compile(loss='binary_crossentropy', optimizer='adam', metrics=['acc'])"
      ]
    },
    {
      "cell_type": "code",
      "execution_count": 17,
      "metadata": {
        "colab": {},
        "colab_type": "code",
        "id": "4Y9pngt3znUO"
      },
      "outputs": [],
      "source": [
        "mc = ModelCheckpoint('./cnn.h5', save_best_only=True)"
      ]
    },
    {
      "cell_type": "code",
      "execution_count": 18,
      "metadata": {
        "colab": {
          "base_uri": "https://localhost:8080/",
          "height": 778
        },
        "colab_type": "code",
        "id": "Lz_DdKvCzwzP",
        "outputId": "4e6bd80c-8d56-4c00-94c7-e45823726521"
      },
      "outputs": [
        {
          "name": "stdout",
          "output_type": "stream",
          "text": [
            "Epoch 1/20\n",
            "294/294 [==============================] - 2s 4ms/step - loss: 0.2198 - acc: 0.9096 - val_loss: 0.1386 - val_acc: 0.9424\n",
            "Epoch 2/20\n",
            "294/294 [==============================] - 1s 3ms/step - loss: 0.1205 - acc: 0.9471 - val_loss: 0.0970 - val_acc: 0.9539\n",
            "Epoch 3/20\n",
            "294/294 [==============================] - 1s 3ms/step - loss: 0.1020 - acc: 0.9558 - val_loss: 0.0763 - val_acc: 0.9664\n",
            "Epoch 4/20\n",
            "294/294 [==============================] - 1s 3ms/step - loss: 0.0814 - acc: 0.9650 - val_loss: 0.0678 - val_acc: 0.9789\n",
            "Epoch 5/20\n",
            "294/294 [==============================] - 1s 3ms/step - loss: 0.0694 - acc: 0.9698 - val_loss: 0.0595 - val_acc: 0.9731\n",
            "Epoch 6/20\n",
            "294/294 [==============================] - 1s 3ms/step - loss: 0.0625 - acc: 0.9709 - val_loss: 0.0496 - val_acc: 0.9808\n",
            "Epoch 7/20\n",
            "294/294 [==============================] - 1s 4ms/step - loss: 0.0580 - acc: 0.9725 - val_loss: 0.0624 - val_acc: 0.9693\n",
            "Epoch 8/20\n",
            "294/294 [==============================] - 1s 3ms/step - loss: 0.0531 - acc: 0.9764 - val_loss: 0.0471 - val_acc: 0.9779\n",
            "Epoch 9/20\n",
            "294/294 [==============================] - 1s 4ms/step - loss: 0.0503 - acc: 0.9753 - val_loss: 0.1063 - val_acc: 0.9664\n",
            "Epoch 10/20\n",
            "294/294 [==============================] - 1s 3ms/step - loss: 0.0629 - acc: 0.9714 - val_loss: 0.0514 - val_acc: 0.9750\n",
            "Epoch 11/20\n",
            "294/294 [==============================] - 1s 3ms/step - loss: 0.0449 - acc: 0.9801 - val_loss: 0.0406 - val_acc: 0.9837\n",
            "Epoch 12/20\n",
            "294/294 [==============================] - 1s 3ms/step - loss: 0.0405 - acc: 0.9820 - val_loss: 0.0458 - val_acc: 0.9798\n",
            "Epoch 13/20\n",
            "294/294 [==============================] - 1s 4ms/step - loss: 0.0381 - acc: 0.9839 - val_loss: 0.0524 - val_acc: 0.9741\n",
            "Epoch 14/20\n",
            "294/294 [==============================] - 1s 3ms/step - loss: 0.0421 - acc: 0.9817 - val_loss: 0.0658 - val_acc: 0.9741\n",
            "Epoch 15/20\n",
            "294/294 [==============================] - 1s 3ms/step - loss: 0.0357 - acc: 0.9847 - val_loss: 0.0497 - val_acc: 0.9750\n",
            "Epoch 16/20\n",
            "294/294 [==============================] - 1s 3ms/step - loss: 0.0332 - acc: 0.9868 - val_loss: 0.0300 - val_acc: 0.9894\n",
            "Epoch 17/20\n",
            "294/294 [==============================] - 1s 3ms/step - loss: 0.0346 - acc: 0.9870 - val_loss: 0.0288 - val_acc: 0.9894\n",
            "Epoch 18/20\n",
            "294/294 [==============================] - 1s 3ms/step - loss: 0.0269 - acc: 0.9901 - val_loss: 0.0257 - val_acc: 0.9885\n",
            "Epoch 19/20\n",
            "294/294 [==============================] - 1s 3ms/step - loss: 0.0265 - acc: 0.9900 - val_loss: 0.0297 - val_acc: 0.9885\n",
            "Epoch 20/20\n",
            "294/294 [==============================] - 1s 3ms/step - loss: 0.0258 - acc: 0.9901 - val_loss: 0.0867 - val_acc: 0.9702\n"
          ]
        }
      ],
      "source": [
        "history = model.fit(X_train, y_train, epochs=20,\n",
        "                    validation_data=(X_val, y_val), callbacks=[mc])"
      ]
    },
    {
      "cell_type": "code",
      "execution_count": 19,
      "metadata": {
        "colab": {
          "base_uri": "https://localhost:8080/",
          "height": 518
        },
        "colab_type": "code",
        "id": "hbuJgmewz8im",
        "outputId": "357c248b-55e5-42f4-9cf1-44b51e93d222"
      },
      "outputs": [
        {
          "data": {
            "image/png": "[encoded data removed]",
            "text/plain": [
              "<Figure size 1000x800 with 1 Axes>"
            ]
          },
          "metadata": {},
          "output_type": "display_data"
        }
      ],
      "source": [
        "fig, ax = plt.subplots(figsize=(10, 8))\n",
        "ax.plot(history.history['loss'], label='train')\n",
        "ax.plot(history.history['val_loss'], label='val')\n",
        "ax.legend()\n",
        "ax.set_title('Learning curve')\n",
        "ax.set_xlabel('Epochs')\n",
        "ax.set_ylabel('Loss')\n",
        "plt.show()"
      ]
    },
    {
      "cell_type": "markdown",
      "metadata": {
        "colab_type": "text",
        "id": "tahIDN_WDvQM"
      },
      "source": [
        "### Predictions\n",
        "\n",
        "We'll test the model by getting predictions for our test data.\n",
        "\n",
        "The steps followed here will be repeated on the Raspberry Pi, so we want to make sure these are repeatable."
      ]
    },
    {
      "cell_type": "code",
      "execution_count": 20,
      "metadata": {
        "colab": {
          "base_uri": "https://localhost:8080/"
        },
        "colab_type": "code",
        "id": "hiJUdJpSDlNZ",
        "outputId": "d3235cd8-b856-464d-8cf8-9998ef873a8b"
      },
      "outputs": [
        {
          "data": {
            "text/plain": [
              "((100, 80), (100, 1))"
            ]
          },
          "execution_count": 20,
          "metadata": {},
          "output_type": "execute_result"
        }
      ],
      "source": [
        "df_test_X = df_test.loc[:, df_test.columns != target]\n",
        "df_test_y = df_test[[target]]\n",
        "\n",
        "df_test_X.shape, df_test_y.shape"
      ]
    },
    {
      "cell_type": "code",
      "execution_count": 21,
      "metadata": {
        "colab": {
          "base_uri": "https://localhost:8080/"
        },
        "colab_type": "code",
        "id": "USjKp883EOqk",
        "outputId": "b1db4062-8637-4940-9d95-86ab16a57d92"
      },
      "outputs": [
        {
          "name": "stdout",
          "output_type": "stream",
          "text": [
            "(90, 10, 37)\n"
          ]
        }
      ],
      "source": [
        "# select features\n",
        "test_X = vt.transform(df_test_X)\n",
        "\n",
        "# scale\n",
        "test_X_scaled = feature_scaler.transform(test_X)\n",
        "\n",
        "# create windowed\n",
        "rolling_indexes = [(range(i, i+timesteps))\n",
        "                   for i in range(test_X_scaled.shape[0]-timesteps)]\n",
        "\n",
        "test_X_sequence = np.take(test_X_scaled, rolling_indexes, axis=0)\n",
        "\n",
        "print(test_X_sequence.shape) # (rows, timesteps, features)"
      ]
    },
    {
      "cell_type": "code",
      "execution_count": 22,
      "metadata": {
        "colab": {
          "base_uri": "https://localhost:8080/"
        },
        "colab_type": "code",
        "id": "zGz6tdoxJHcx",
        "outputId": "e372b9c4-3360-44b1-8cd1-4a9ef894b085"
      },
      "outputs": [
        {
          "name": "stdout",
          "output_type": "stream",
          "text": [
            "(90, 1)\n"
          ]
        }
      ],
      "source": [
        "# shift y down by window values so that we are predicting the future\n",
        "test_y = df_test_y[timesteps:] \n",
        "\n",
        "# make sure y is the same number of rows as test_X_sequence\n",
        "print(test_y.shape)"
      ]
    },
    {
      "cell_type": "code",
      "execution_count": 23,
      "metadata": {
        "colab": {},
        "colab_type": "code",
        "id": "j4W4u4A7EvG-"
      },
      "outputs": [
        {
          "name": "stdout",
          "output_type": "stream",
          "text": [
            "3/3 [==============================] - 0s 2ms/step\n"
          ]
        }
      ],
      "source": [
        "# predict by loading the checkpointed model with the lowest validation loss\n",
        "best_model = load_model('./cnn.h5')\n",
        "#pred = best_model.predict_classes(test_X_sequence)\n",
        "pred = best_model.predict(test_X_sequence)"
      ]
    },
    {
      "cell_type": "code",
      "execution_count": 24,
      "metadata": {},
      "outputs": [
        {
          "data": {
            "text/plain": [
              "array([[0.99999994],\n",
              "       [0.9999999 ],\n",
              "       [0.9999994 ],\n",
              "       [0.9999994 ],\n",
              "       [0.99999946],\n",
              "       [0.99999946],\n",
              "       [0.9999994 ],\n",
              "       [0.99999934],\n",
              "       [0.9999994 ],\n",
              "       [0.9999994 ],\n",
              "       [0.9999994 ],\n",
              "       [0.9999994 ],\n",
              "       [0.9999994 ],\n",
              "       [0.9999994 ],\n",
              "       [0.9999994 ],\n",
              "       [0.99999946],\n",
              "       [0.9999994 ],\n",
              "       [0.9999994 ],\n",
              "       [0.9999994 ],\n",
              "       [0.9999994 ],\n",
              "       [0.9999994 ],\n",
              "       [0.99999934],\n",
              "       [0.99999934],\n",
              "       [0.99999934],\n",
              "       [0.99999934],\n",
              "       [0.99999934],\n",
              "       [0.99999934],\n",
              "       [0.99999934],\n",
              "       [0.9999994 ],\n",
              "       [0.9999994 ],\n",
              "       [0.9999994 ],\n",
              "       [0.99999946],\n",
              "       [0.99999946],\n",
              "       [0.99999946],\n",
              "       [0.99999946],\n",
              "       [0.9999995 ],\n",
              "       [0.99999946],\n",
              "       [0.99999946],\n",
              "       [0.99999946],\n",
              "       [0.99999946],\n",
              "       [0.9999994 ],\n",
              "       [0.99999946],\n",
              "       [0.9999994 ],\n",
              "       [0.99999934],\n",
              "       [0.99999934],\n",
              "       [0.99999934],\n",
              "       [0.99999934],\n",
              "       [0.99999934],\n",
              "       [0.9999993 ],\n",
              "       [0.9999993 ],\n",
              "       [0.9999993 ],\n",
              "       [0.9999993 ],\n",
              "       [0.99999934],\n",
              "       [0.99999934],\n",
              "       [0.99999934],\n",
              "       [0.99999934],\n",
              "       [0.9999994 ],\n",
              "       [0.9999994 ],\n",
              "       [0.9999994 ],\n",
              "       [0.9999994 ],\n",
              "       [0.9999994 ],\n",
              "       [0.9999994 ],\n",
              "       [0.9999994 ],\n",
              "       [0.99999946],\n",
              "       [0.9999994 ],\n",
              "       [0.9999994 ],\n",
              "       [0.9999994 ],\n",
              "       [0.9999994 ],\n",
              "       [0.9999994 ],\n",
              "       [0.9999994 ],\n",
              "       [0.9999994 ],\n",
              "       [0.9999994 ],\n",
              "       [0.99999934],\n",
              "       [0.9999994 ],\n",
              "       [0.9999994 ],\n",
              "       [0.99999934],\n",
              "       [0.99999934],\n",
              "       [0.99999934],\n",
              "       [0.99999934],\n",
              "       [0.99999934],\n",
              "       [0.9999994 ],\n",
              "       [0.9999994 ],\n",
              "       [0.99999934],\n",
              "       [0.99999934],\n",
              "       [0.9999994 ],\n",
              "       [0.9999994 ],\n",
              "       [0.9999995 ],\n",
              "       [0.9999995 ],\n",
              "       [0.9999995 ],\n",
              "       [0.9999995 ]], dtype=float32)"
            ]
          },
          "execution_count": 24,
          "metadata": {},
          "output_type": "execute_result"
        }
      ],
      "source": [
        "pred"
      ]
    },
    {
      "cell_type": "code",
      "execution_count": 25,
      "metadata": {
        "colab": {
          "base_uri": "https://localhost:8080/"
        },
        "colab_type": "code",
        "id": "UTooEXjjJrMz",
        "outputId": "46054ecd-b07e-4445-dfc7-94f97be020c7"
      },
      "outputs": [
        {
          "name": "stdout",
          "output_type": "stream",
          "text": [
            "              precision    recall  f1-score   support\n",
            "\n",
            "           1       1.00      1.00      1.00        90\n",
            "\n",
            "    accuracy                           1.00        90\n",
            "   macro avg       1.00      1.00      1.00        90\n",
            "weighted avg       1.00      1.00      1.00        90\n",
            "\n",
            "[[90]]\n"
          ]
        }
      ],
      "source": [
        "# score\n",
        "print(classification_report(test_y, np.round(pred)))\n",
        "print(confusion_matrix(test_y, np.round(pred)))"
      ]
    },
    {
      "cell_type": "code",
      "execution_count": 27,
      "metadata": {
        "colab": {
          "base_uri": "https://localhost:8080/"
        },
        "colab_type": "code",
        "id": "-Y9NVNM1cOTe",
        "outputId": "fcdf3270-3176-45f8-88e5-5edb0b5aca33"
      },
      "outputs": [
        {
          "name": "stdout",
          "output_type": "stream",
          "text": [
            "33/33 [==============================] - 0s 2ms/step\n",
            "              precision    recall  f1-score   support\n",
            "\n",
            "           0       0.94      1.00      0.97       493\n",
            "           1       1.00      0.95      0.97       549\n",
            "\n",
            "    accuracy                           0.97      1042\n",
            "   macro avg       0.97      0.97      0.97      1042\n",
            "weighted avg       0.97      0.97      0.97      1042\n",
            "\n",
            "[[492   1]\n",
            " [ 30 519]]\n"
          ]
        }
      ],
      "source": [
        "# try to predict some class 0 values using validation set\n",
        "\n",
        "#pred_val = model.predict_classes(X_val)\n",
        "pred_val = model.predict(X_val)\n",
        "\n",
        "print(classification_report(y_val, np.round(pred_val)))\n",
        "print(confusion_matrix(y_val, np.round(pred_val)))"
      ]
    },
    {
      "cell_type": "code",
      "execution_count": null,
      "metadata": {
        "colab": {},
        "colab_type": "code",
        "id": "iVGUHHVw4m65"
      },
      "outputs": [],
      "source": []
    },
    {
      "cell_type": "markdown",
      "metadata": {
        "colab_type": "text",
        "id": "V6Uk91yIeRqX"
      },
      "source": [
        "## Deployment\n",
        "\n",
        "1. Save pre-processors\n",
        "2. Convert to Tensorflow Lite: https://www.tensorflow.org/lite/convert#from_model_training_to_device_deployment"
      ]
    },
    {
      "cell_type": "code",
      "execution_count": 28,
      "metadata": {
        "colab": {},
        "colab_type": "code",
        "id": "r2ATL_6He5GM"
      },
      "outputs": [],
      "source": [
        "# Save preprocessors, create a dictionary so that everything in 1 place\n",
        "\n",
        "preprocessors = {\n",
        "    'variance_threshold' : vt,\n",
        "    'feature_scaler' : feature_scaler   \n",
        "}\n",
        "\n",
        "pickle.dump(preprocessors, open('./preprocessors.pkl', 'wb'))"
      ]
    },
    {
      "cell_type": "code",
      "execution_count": 29,
      "metadata": {
        "colab": {},
        "colab_type": "code",
        "id": "S-cvueJofSG3"
      },
      "outputs": [
        {
          "name": "stderr",
          "output_type": "stream",
          "text": [
            "WARNING:absl:Optimization option OPTIMIZE_FOR_LATENCY is deprecated, please use optimizations=[Optimize.DEFAULT] instead.\n",
            "WARNING:absl:Found untraced functions such as _jit_compiled_convolution_op, _update_step_xla while saving (showing 2 of 2). These functions will not be directly callable after loading.\n"
          ]
        },
        {
          "name": "stdout",
          "output_type": "stream",
          "text": [
            "INFO:tensorflow:Assets written to: C:\\Users\\mont\\AppData\\Local\\Temp\\tmp5q8i8r7s\\assets\n"
          ]
        },
        {
          "name": "stderr",
          "output_type": "stream",
          "text": [
            "INFO:tensorflow:Assets written to: C:\\Users\\mont\\AppData\\Local\\Temp\\tmp5q8i8r7s\\assets\n",
            "WARNING:absl:Optimization option OPTIMIZE_FOR_LATENCY is deprecated, please use optimizations=[Optimize.DEFAULT] instead.\n",
            "WARNING:absl:Optimization option OPTIMIZE_FOR_LATENCY is deprecated, please use optimizations=[Optimize.DEFAULT] instead.\n"
          ]
        }
      ],
      "source": [
        "# Convert to Tensorflow lite\n",
        "\n",
        "# older version of TFLite\n",
        "# converter = tf.lite.TFLiteConverter.from_keras_model_file('./cnn.h5')\n",
        "\n",
        "# latest version of TFLite\n",
        "saved_model = tf.keras.models.load_model('./cnn.h5')\n",
        "converter = tf.lite.TFLiteConverter.from_keras_model(saved_model)\n",
        "\n",
        "# https://www.tensorflow.org/api_docs/python/tf/lite/Optimize\n",
        "converter.optimizations = [tf.lite.Optimize.OPTIMIZE_FOR_LATENCY] \n",
        "\n",
        "tflite_model = converter.convert()\n",
        "with open('./cnn.tflite', 'wb') as f:\n",
        "  f.write(tflite_model)"
      ]
    },
    {
      "cell_type": "markdown",
      "metadata": {
        "colab_type": "text",
        "id": "JiitATTdskPd"
      },
      "source": [
        "### Testing TensorFlow Lite Inference\n",
        "\n",
        "https://www.tensorflow.org/lite/guide/inference#running_a_model\n",
        "\n",
        "Before running inference on a Raspberry Pi, it is easier to write code and test out the inference on a PC or Google Cloud."
      ]
    },
    {
      "cell_type": "code",
      "execution_count": 30,
      "metadata": {
        "colab": {},
        "colab_type": "code",
        "id": "jDidAr3cueqA"
      },
      "outputs": [],
      "source": [
        "# This is the code we will run on the Raspberry Pi\n",
        "import pickle\n",
        "import numpy as np\n",
        "import tensorflow as tf\n",
        "\n",
        "def load_test_data(data_filename, preprocessors_filename):\n",
        "  timesteps = 10\n",
        "\n",
        "  # Load test data and process it\n",
        "  test_array = pickle.load(open(data_filename, 'rb'))\n",
        "\n",
        "  preprocessors = pickle.load(open(preprocessors_filename, 'rb'))\n",
        "  vt = preprocessors['variance_threshold']\n",
        "  feature_scaler = preprocessors['feature_scaler']\n",
        "\n",
        "  # select features\n",
        "  test_X = vt.transform(test_array)\n",
        "\n",
        "  # scale\n",
        "  test_X_scaled = feature_scaler.transform(test_X)\n",
        "\n",
        "  # create windowed\n",
        "  rolling_indexes = [(range(i, i+timesteps))\n",
        "                     for i in range(test_X_scaled.shape[0]-timesteps)]\n",
        "\n",
        "  test_X_sequence = np.take(test_X_scaled, rolling_indexes, axis=0)\n",
        "  print(test_X_sequence.shape) # (rows, timesteps, features)\n",
        "    \n",
        "  return test_X_sequence"
      ]
    },
    {
      "cell_type": "code",
      "execution_count": 31,
      "metadata": {
        "colab": {
          "base_uri": "https://localhost:8080/"
        },
        "colab_type": "code",
        "id": "4UVR01Qmwqoo",
        "outputId": "d7fd0e2e-f2c5-4bb0-df69-e276b7f08f40"
      },
      "outputs": [
        {
          "name": "stdout",
          "output_type": "stream",
          "text": [
            "(90, 10, 37)\n"
          ]
        }
      ],
      "source": [
        "X_test = load_test_data('./X_test.pkl', './preprocessors.pkl')"
      ]
    },
    {
      "cell_type": "code",
      "execution_count": 60,
      "metadata": {
        "colab": {},
        "colab_type": "code",
        "id": "mArG7XJat0Pu"
      },
      "outputs": [],
      "source": [
        "def predict(model_path, test_data):\n",
        "  # Load TFLite model and allocate tensors.\n",
        "  interpreter = tf.lite.Interpreter(model_path=model_path)\n",
        "  interpreter.allocate_tensors()\n",
        "\n",
        "  # Get input and output tensors.\n",
        "  input_details = interpreter.get_input_details()\n",
        "  output_details = interpreter.get_output_details()\n",
        "\n",
        "  # Test model on input data.\n",
        "  input_shape = input_details[0]['shape']\n",
        "\n",
        "  # Loop through each row of test_data and perform inference\n",
        "  for i in range(test_data.shape[0]):\n",
        "\n",
        "    # add batch dimension\n",
        "    input_data = np.expand_dims(test_data[i], axis=0).astype('float32')\n",
        "\n",
        "    interpreter.set_tensor(input_details[0]['index'], input_data)\n",
        "    interpreter.invoke()\n",
        "\n",
        "    # The function `get_tensor()` returns a copy of the tensor data.\n",
        "    # Use `tensor()` in order to get a pointer to the tensor.\n",
        "    output_data = interpreter.get_tensor(output_details[0]['index'])\n",
        "    print(output_data)"
      ]
    },
    {
      "cell_type": "markdown",
      "metadata": {
        "colab_type": "text",
        "id": "shAXE78UKseL"
      },
      "source": [
        "### Exercise 1: Testing the compressed model\n",
        "<p>\n",
        "<font color=\"red\">\n",
        "Update the cell below to get predictions from N randomly chosen samples, using the Tensorflow Lite version of the model.\n",
        "</font>\n",
        "</p>\n",
        "<p>\n",
        "<font color=\"green\">\n",
        "Submission:\n",
        "<ol>\n",
        "<li type='a'>Paste the updated code into the submission worksheet</li>\n",
        "<li type='a'>Paste predictions into the submission worksheet</li>\n",
        "</ol>\n",
        "</font>\n",
        "</p>"
      ]
    },
    {
      "cell_type": "code",
      "execution_count": 68,
      "metadata": {
        "colab": {
          "base_uri": "https://localhost:8080/"
        },
        "colab_type": "code",
        "id": "F__0o3I6uLtu",
        "outputId": "33dfa228-7cbe-4060-921a-628965fb2c94"
      },
      "outputs": [
        {
          "name": "stdout",
          "output_type": "stream",
          "text": [
            "(90, 10, 37)\n",
            "[12 21 68]\n",
            "[[0.99999946]]\n",
            "[[0.9999994]]\n",
            "[[0.99999946]]\n"
          ]
        }
      ],
      "source": [
        "# Exercise: test out your compressed tensorflow lite model to get\n",
        "# predictions from randomly selected samples before deploying to the Edge device.\n",
        "#\n",
        "# Hint1: you may use the helper function above to get a prediction.\n",
        "# Hint2: you may use the following code to get a random selection of samples\n",
        "# N = <pick_a_number>\n",
        "# random_index = np.random.choice(range(len(X_test)), N)\n",
        "#\n",
        "import argparse\n",
        "\n",
        "X_test = load_test_data('./X_test.pkl', './preprocessors.pkl')\n",
        "\n",
        "#\n",
        "# ADD YOUR CODE BELOW\n",
        "#\n"
      ]
    },
    {
      "cell_type": "code",
      "execution_count": null,
      "metadata": {
        "colab": {},
        "colab_type": "code",
        "id": "jEELC31DkNCy"
      },
      "outputs": [],
      "source": []
    }
  ],
  "metadata": {
    "accelerator": "GPU",
    "colab": {
      "include_colab_link": true,
      "name": "edge_time_series_classification.ipynb",
      "provenance": [],
      "toc_visible": true
    },
    "kernelspec": {
      "display_name": "diec",
      "language": "python",
      "name": "python3"
    },
    "language_info": {
      "codemirror_mode": {
        "name": "ipython",
        "version": 3
      },
      "file_extension": ".py",
      "mimetype": "text/x-python",
      "name": "python",
      "nbconvert_exporter": "python",
      "pygments_lexer": "ipython3",
      "version": "3.8.15 (default, Nov 24 2022, 14:38:14) [MSC v.1916 64 bit (AMD64)]"
    },
    "vscode": {
      "interpreter": {
        "hash": "99ab6a822f583c85e5b91a5da90069546865a2de8ee35b26e8332ce40f07d7fe"
      }
    }
  },
  "nbformat": 4,
  "nbformat_minor": 0
}
